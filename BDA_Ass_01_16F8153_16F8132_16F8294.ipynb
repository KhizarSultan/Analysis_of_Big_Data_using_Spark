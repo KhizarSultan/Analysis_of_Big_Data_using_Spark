{
 "cells": [
  {
   "cell_type": "markdown",
   "metadata": {},
   "source": [
    "## Big Data Analytics / Asssignment 01 \n",
    "### Submitted By:  \n",
    "#### Khizar Sultan 16F8153 \n",
    "#### Abaidullah 16F8132 \n",
    "#### Abdul Manan 16F8294\n",
    "\n",
    "### Submitted To:  \n",
    "#### Sir Hafiz Tayyeb Javaid \n",
    "\n",
    "#### it's really honor for us that we are learning Big Data Analytics from our respected *Sir Hafiz Tayyab*. He is doing Ph.D in Big Data Analytics and teaching us at FAST-NUCES.\n",
    "#### In this notebook, we will try our best to let you know the hands on experience to Analyze Big Data. At the end of this tutorial, if you will have any query or question, you can ask me at khizersultan007@gmail.com without any hesitation. Thank you!"
   ]
  },
  {
   "cell_type": "markdown",
   "metadata": {},
   "source": [
    "### What is Hadoop Ecosystem ?\n",
    "\n",
    "Hadoop ecosystem is a platform which helps in solving the big data problems using distributed storage and distributed computing on computer clusters, following diagram will give a brief understanding of Hadoop\n",
    "<img src=\"https://www.edureka.co/blog/wp-content/uploads/2016/10/HADOOP-ECOSYSTEM-Edureka.png\" />"
   ]
  },
  {
   "cell_type": "markdown",
   "metadata": {},
   "source": [
    "## I will use Spark and why?\n",
    "#### According to google :\n",
    "<b> Spark has been found to run *100 times faster in-memory, and 10 times faster on disk*. <br>\n",
    "    It's also been used to sort 100 TB of data 3 times faster than Hadoop MapReduce on one-tenth of the machines. <br>\n",
    "    Spark has particularly been found to be faster on machine learning applications, such as Naive Bayes and k-means </b>\n",
    "    \n",
    "## What is Spark? \n",
    "\n",
    "#### Spark Core\n",
    "Spark Core is the base engine for large-scale parallel and distributed data processing. The core is the distributed execution engine and the Java, Scala, and Python APIs offer a platform for distributed ETL application development. Further, additional libraries which are built atop the core allow diverse workloads for streaming, SQL, and machine learning. It is responsible for:\n",
    "Memory management and fault recovery\n",
    "Scheduling, distributing and monitoring jobs on a cluster\n",
    "Interacting with storage systems\n",
    "\n",
    "#### Spark Streaming\n",
    "Spark Streaming is the component of Spark which is used to process real-time streaming data. Thus, it is a useful addition to the core Spark API. It enables high-throughput and fault-tolerant stream processing of live data streams. The fundamental stream unit is DStream which is basically a series of RDDs (Resilient Distributed Datasets) to process the real-time data\n",
    "\n",
    "#### Spark SQL\n",
    "Spark SQL is a new module in Spark which integrates relational processing with Spark’s functional programming API. It supports querying data either via SQL or via the Hive Query Language. For those of you familiar with RDBMS, Spark SQL will be an easy transition from your earlier tools where you can extend the boundaries of traditional relational data processing.\n",
    "\n",
    "#### GraphX\n",
    "GraphX is the Spark API for graphs and graph-parallel computation. Thus, it extends the Spark RDD with a Resilient Distributed Property Graph.\n",
    "\n",
    "#### MLlib (Machine Learning)\n",
    "MLlib stands for Machine Learning Library. Spark MLlib is used to perform machine learning in Apache Spark    "
   ]
  },
  {
   "cell_type": "markdown",
   "metadata": {},
   "source": [
    "# Let's Start Now:) \n",
    "\n",
    "###### we will use Pokec data set\n",
    "Pokec is the most popular on-line social network in Slovakia. The popularity of network has not changed even after the coming of Facebook. Pokec has been provided for more than 10 years and connects more than 1.6 million people. Datasets contains anonymized data of the whole network. Profile data contains gender, age, hobbies, interest, education etc. Profile data are in Slovak language. Friendships in Pokec are oriented\n",
    "\n",
    "###### you can get this dataset from the following site:\n",
    "https://snap.stanford.edu/data/soc-Pokec.html.\n",
    "\n",
    "### Note:\n",
    "##### you need to configure hadoop and spark using following link , but  I have already installed and configure spark :)\n",
    "https://medium.com/@naomi.fridman/install-pyspark-to-run-on-jupyter-notebook-on-windows-4ec2009de21f"
   ]
  },
  {
   "cell_type": "code",
   "execution_count": 4,
   "metadata": {},
   "outputs": [
    {
     "name": "stdout",
     "output_type": "stream",
     "text": [
      "C:\\spark-2.4\n",
      "C:\\Program Files\\Java\\jdk-13.0.1\n",
      "C:\\Users\\Khizar Sultan\\Anaconda3;C:\\Users\\Khizar Sultan\\Anaconda3\\Library\\mingw-w64\\bin;C:\\Users\\Khizar Sultan\\Anaconda3\\Library\\usr\\bin;C:\\Users\\Khizar Sultan\\Anaconda3\\Library\\bin;C:\\Users\\Khizar Sultan\\Anaconda3\\Scripts;C:\\Program Files (x86)\\Common Files\\Oracle\\Java\\javapath;C:\\Windows\\system32;C:\\Windows;C:\\Windows\\System32\\Wbem;C:\\Windows\\System32\\WindowsPowerShell\\v1.0\\;C:\\Windows\\System32\\OpenSSH\\;C:\\Program Files\\Git\\cmd;C:\\Program Files\\Java\\jdk-13.0.1\\bin;C:\\spark-2.4\\bin;C:\\spark-2.4\\bin;C:\\Users\\Khizar Sultan\\AppData\\Local\\Microsoft\\WindowsApps;\"C:\\Users\\Khizar Sultan\\AppData\\Local\\Programs\\Microsoft VS Code\\bin;C:\\spark-2.4\\bin\";;C:\\Users\\Khizar Sultan\\AppData\\Local\\Programs\\Microsoft VS Code\\bin;C:\\Users\\Khizar Sultan\\Anaconda3\\lib\\site-packages\\numpy\\.libs\n"
     ]
    }
   ],
   "source": [
    "import os\n",
    "print(os.environ['SPARK_HOME'])\n",
    "print(os.environ['JAVA_HOME'])\n",
    "print(os.environ['PATH'])"
   ]
  },
  {
   "cell_type": "code",
   "execution_count": null,
   "metadata": {},
   "outputs": [],
   "source": []
  },
  {
   "cell_type": "code",
   "execution_count": 4,
   "metadata": {},
   "outputs": [
    {
     "data": {
      "text/plain": [
       "'C:\\\\spark-2.4'"
      ]
     },
     "execution_count": 4,
     "metadata": {},
     "output_type": "execute_result"
    }
   ],
   "source": [
    "# import pyspark\n",
    "import findspark\n",
    "findspark.init()\n",
    "findspark.find()\n",
    "import pyspark\n",
    "findspark.find()"
   ]
  },
  {
   "cell_type": "code",
   "execution_count": 5,
   "metadata": {},
   "outputs": [],
   "source": [
    "from pyspark import SparkConf,SparkContext\n",
    "from pyspark.sql import SparkSession, SQLContext"
   ]
  },
  {
   "cell_type": "code",
   "execution_count": 6,
   "metadata": {},
   "outputs": [],
   "source": [
    "conf = SparkConf().setAppName('Pokec').setMaster('local')\n",
    "sc = SparkContext(conf=conf)\n",
    "spark = SparkSession(sc)"
   ]
  },
  {
   "cell_type": "code",
   "execution_count": 8,
   "metadata": {},
   "outputs": [
    {
     "name": "stdout",
     "output_type": "stream",
     "text": [
      "Spark Version is 3.0.0-preview2\n"
     ]
    }
   ],
   "source": [
    "print(f\"Spark Version is {sc.version}\")\n",
    "# sc.stop()"
   ]
  },
  {
   "cell_type": "code",
   "execution_count": null,
   "metadata": {},
   "outputs": [],
   "source": []
  },
  {
   "cell_type": "code",
   "execution_count": 121,
   "metadata": {},
   "outputs": [
    {
     "name": "stdout",
     "output_type": "stream",
     "text": [
      "Both Files has been readed\n",
      "Wall time: 22.5 s\n"
     ]
    }
   ],
   "source": [
    "%%time\n",
    "df_profile = spark.read.format(\"csv\").option(\"header\",\"true\").option(\"delimiter\",\"\\t\").load('dataset/soc-pokec-profiles.txt')\n",
    "df_relationships = spark.read.format(\"csv\").option(\"header\",\"true\").option(\"delimiter\",\"\\t\").load('dataset/soc-pokec-relationships.txt')\n",
    "print(\"Both Files has been readed\")"
   ]
  },
  {
   "cell_type": "code",
   "execution_count": 124,
   "metadata": {},
   "outputs": [
    {
     "data": {
      "text/plain": [
       "60"
      ]
     },
     "execution_count": 124,
     "metadata": {},
     "output_type": "execute_result"
    }
   ],
   "source": [
    "old_columns = df_profile.columns\n",
    "len(old_columns)"
   ]
  },
  {
   "cell_type": "code",
   "execution_count": 125,
   "metadata": {},
   "outputs": [
    {
     "data": {
      "text/plain": [
       "60"
      ]
     },
     "execution_count": 125,
     "metadata": {},
     "output_type": "execute_result"
    }
   ],
   "source": [
    "new_columns = ['user_id','public','completion_percentage','gender','region','last_login','registration','AGE',\\\n",
    "               'body','I_am_working_in_field','spoken_languages','hobbies','I_most_enjoy_good_food','pets','body_type',\\\n",
    "               'my_eyesight','eye_color','hair_color','hair_type','completed_level_of_education','favourite_color',\\\n",
    "               ' relation_to_smoking','relation_to_alcohol','sign_in_zodiac','on_pokec_i_am_looking_for','love_is_for_me',\\\n",
    "               'relation_to_casual_sex','my_partner_should_be','marital_status','children','relation_to_children',\\\n",
    "               'I_like_movies','I_like_watching_movie','I_like_music','I_mostly_like_listening_to_music',\\\n",
    "               'the_idea_of_good_evening','I_like_specialties_from_kitchen','fun',' I_am_going_to_concerts',\\\n",
    "               'my_active_sports','my_passive_sports',' profession','I_like_books','life_style','music','cars','politics',\\\n",
    "               'relationships','art_culture','hobbies_interests','science_technologies','computers_internet',' education',\\\n",
    "               'sport','movies','travelling','health','companies_brands','is_vergin','is_white']\n",
    "len(new_columns)"
   ]
  },
  {
   "cell_type": "code",
   "execution_count": 126,
   "metadata": {},
   "outputs": [
    {
     "data": {
      "text/plain": [
       "2"
      ]
     },
     "execution_count": 126,
     "metadata": {},
     "output_type": "execute_result"
    }
   ],
   "source": [
    "relationship_old_columns = df_relationships.columns\n",
    "len(relationship_old_columns)"
   ]
  },
  {
   "cell_type": "code",
   "execution_count": 127,
   "metadata": {},
   "outputs": [
    {
     "data": {
      "text/plain": [
       "2"
      ]
     },
     "execution_count": 127,
     "metadata": {},
     "output_type": "execute_result"
    }
   ],
   "source": [
    "relationship_new_columns = ['Foriegn_key','Friend_key']\n",
    "len(relationship_new_columns)"
   ]
  },
  {
   "cell_type": "markdown",
   "metadata": {},
   "source": [
    "### Changing Column Names for the sake of understanding of Data :)"
   ]
  },
  {
   "cell_type": "code",
   "execution_count": 128,
   "metadata": {},
   "outputs": [],
   "source": [
    "# for profile dataset\n",
    "for c,n in zip(old_columns,new_columns):\n",
    "    df_profile=df_profile.withColumnRenamed(c,n)    \n",
    "        \n",
    "# for relationship dataset    \n",
    "for c,n in zip(relationship_old_columns,relationship_new_columns):\n",
    "    df_relationships=df_relationships.withColumnRenamed(c,n)"
   ]
  },
  {
   "cell_type": "code",
   "execution_count": null,
   "metadata": {},
   "outputs": [],
   "source": []
  },
  {
   "cell_type": "code",
   "execution_count": 15,
   "metadata": {
    "scrolled": true
   },
   "outputs": [
    {
     "name": "stdout",
     "output_type": "stream",
     "text": [
      "No.s of Rows in Profile Text File is 1632802\n",
      "No.s of Rows in Relationship Text File is 30622563\n"
     ]
    }
   ],
   "source": [
    "# number of rows\n",
    "print(f\"No.s of Rows in Profile Text File is {df_profile.count()}\")\n",
    "print(f\"No.s of Rows in Relationship Text File is {df_relationships.count()}\")"
   ]
  },
  {
   "cell_type": "code",
   "execution_count": 129,
   "metadata": {},
   "outputs": [
    {
     "name": "stdout",
     "output_type": "stream",
     "text": [
      "Following is the Schema of Profile Text File :\n",
      "root\n",
      " |-- user_id: string (nullable = true)\n",
      " |-- public: string (nullable = true)\n",
      " |-- completion_percentage: string (nullable = true)\n",
      " |-- gender: string (nullable = true)\n",
      " |-- region: string (nullable = true)\n",
      " |-- last_login: string (nullable = true)\n",
      " |-- registration: string (nullable = true)\n",
      " |-- AGE: string (nullable = true)\n",
      " |-- body: string (nullable = true)\n",
      " |-- I_am_working_in_field: string (nullable = true)\n",
      " |-- spoken_languages: string (nullable = true)\n",
      " |-- hobbies: string (nullable = true)\n",
      " |-- I_most_enjoy_good_food: string (nullable = true)\n",
      " |-- pets: string (nullable = true)\n",
      " |-- body_type: string (nullable = true)\n",
      " |-- my_eyesight: string (nullable = true)\n",
      " |-- eye_color: string (nullable = true)\n",
      " |-- hair_color: string (nullable = true)\n",
      " |-- hair_type: string (nullable = true)\n",
      " |-- completed_level_of_education: string (nullable = true)\n",
      " |-- favourite_color: string (nullable = true)\n",
      " |--  relation_to_smoking: string (nullable = true)\n",
      " |-- relation_to_alcohol: string (nullable = true)\n",
      " |-- sign_in_zodiac: string (nullable = true)\n",
      " |-- on_pokec_i_am_looking_for: string (nullable = true)\n",
      " |-- love_is_for_me: string (nullable = true)\n",
      " |-- relation_to_casual_sex: string (nullable = true)\n",
      " |-- my_partner_should_be: string (nullable = true)\n",
      " |-- marital_status: string (nullable = true)\n",
      " |-- children: string (nullable = true)\n",
      " |-- relation_to_children: string (nullable = true)\n",
      " |-- I_like_movies: string (nullable = true)\n",
      " |-- I_like_watching_movie: string (nullable = true)\n",
      " |-- I_like_music: string (nullable = true)\n",
      " |-- I_mostly_like_listening_to_music: string (nullable = true)\n",
      " |-- the_idea_of_good_evening: string (nullable = true)\n",
      " |-- I_like_specialties_from_kitchen: string (nullable = true)\n",
      " |-- fun: string (nullable = true)\n",
      " |--  I_am_going_to_concerts: string (nullable = true)\n",
      " |-- my_active_sports: string (nullable = true)\n",
      " |-- my_passive_sports: string (nullable = true)\n",
      " |--  profession: string (nullable = true)\n",
      " |-- I_like_books: string (nullable = true)\n",
      " |-- life_style: string (nullable = true)\n",
      " |-- music: string (nullable = true)\n",
      " |-- cars: string (nullable = true)\n",
      " |-- politics: string (nullable = true)\n",
      " |-- relationships: string (nullable = true)\n",
      " |-- art_culture: string (nullable = true)\n",
      " |-- hobbies_interests: string (nullable = true)\n",
      " |-- science_technologies: string (nullable = true)\n",
      " |-- computers_internet: string (nullable = true)\n",
      " |--  education: string (nullable = true)\n",
      " |-- sport: string (nullable = true)\n",
      " |-- movies: string (nullable = true)\n",
      " |-- travelling: string (nullable = true)\n",
      " |-- health: string (nullable = true)\n",
      " |-- companies_brands: string (nullable = true)\n",
      " |-- is_vergin: string (nullable = true)\n",
      " |-- is_white: string (nullable = true)\n",
      "\n"
     ]
    }
   ],
   "source": [
    "print(f\"Following is the Schema of Profile Text File :\")\n",
    "df_profile.printSchema()"
   ]
  },
  {
   "cell_type": "code",
   "execution_count": 32,
   "metadata": {},
   "outputs": [
    {
     "name": "stdout",
     "output_type": "stream",
     "text": [
      "Following is the Schema of Relationship Text File :\n",
      "root\n",
      " |-- Foriegn_key: string (nullable = true)\n",
      " |-- Friend_key: string (nullable = true)\n",
      "\n"
     ]
    }
   ],
   "source": [
    "print(f\"Following is the Schema of Relationship Text File :\")\n",
    "df_relationships.printSchema()"
   ]
  },
  {
   "cell_type": "code",
   "execution_count": 33,
   "metadata": {},
   "outputs": [
    {
     "name": "stdout",
     "output_type": "stream",
     "text": [
      "Following is the summary of Relationship file\n",
      "+-------+------------------+------------------+\n",
      "|summary|       Foriegn_key|        Friend_key|\n",
      "+-------+------------------+------------------+\n",
      "|  count|          30622563|          30622563|\n",
      "|   mean|464459.61943547963|458584.85949350486|\n",
      "| stddev|353495.57459789095| 352764.5905865541|\n",
      "|    min|                 1|                 1|\n",
      "|    max|            999999|            999999|\n",
      "+-------+------------------+------------------+\n",
      "\n"
     ]
    }
   ],
   "source": [
    "print(\"Following is the summary of Relationship file\")\n",
    "df_relationships.describe().show()"
   ]
  },
  {
   "cell_type": "code",
   "execution_count": 34,
   "metadata": {},
   "outputs": [
    {
     "name": "stdout",
     "output_type": "stream",
     "text": [
      "Following is the summary of Profile Data\n",
      "+-------+-----------------+------------------+---------------------+------------------+--------------------+--------------------+--------------------+------------------+-------------------------------------+-------------------------------------+-------------------------------------+-------------------------------------+-------------------------------------+--------------------+-------------------------------------+-------------------------------------+-------------------------------------+-------------------------------------+-------------------------------------+-------------------------------------+-------------------------------------+-------------------------------------+-------------------------------------+-------------------------------------+-------------------------+--------------------+----------------------+--------------------+--------------------+--------+--------------------+--------------------+---------------------+----------------------+-------------------------------------+------------------------+-------------------------------------+--------------------+-----------------------+-------------------------------------+-------------------------------------+-------------------------------------+--------------------+--------------------+--------------------+--------------------+--------------------+--------------------+--------------------+--------------------+--------------------+--------------------+--------------------+--------------------+--------------------+--------------------+--------------------+--------------------+--------------------+--------+\n",
      "|summary|          user_id|            public|completion_percentage|            gender|              region|          last_login|        registration|               AGE|                                 body|                I_am_working_in_field|                     spoken_languages|                              hobbies|               I_most_enjoy_good_food|                pets|                            body_type|                          my_eyesight|                            eye_color|                           hair_color|                            hair_type|         completed_level_of_education|                      favourite_color|                  relation_to_smoking|                  relation_to_alcohol|                       sign_in_zodiac|on_pokec_i_am_looking_for|      love_is_for_me|relation_to_casual_sex|my_partner_should_be|      marital_status|children|relation_to_children|       I_like_movies|I_like_watching_movie|          I_like_music|     I_mostly_like_listening_to_music|the_idea_of_good_evening|      I_like_specialties_from_kitchen|                 fun| I_am_going_to_concerts|                     my_active_sports|                    my_passive_sports|                           profession|        I_like_books|          life_style|               music|                cars|            politics|       relationships|         art_culture|   hobbies_interests|science_technologies|  computers_internet|           education|               sport|              movies|          travelling|              health|    companies_brands|           is_vergin|is_white|\n",
      "+-------+-----------------+------------------+---------------------+------------------+--------------------+--------------------+--------------------+------------------+-------------------------------------+-------------------------------------+-------------------------------------+-------------------------------------+-------------------------------------+--------------------+-------------------------------------+-------------------------------------+-------------------------------------+-------------------------------------+-------------------------------------+-------------------------------------+-------------------------------------+-------------------------------------+-------------------------------------+-------------------------------------+-------------------------+--------------------+----------------------+--------------------+--------------------+--------+--------------------+--------------------+---------------------+----------------------+-------------------------------------+------------------------+-------------------------------------+--------------------+-----------------------+-------------------------------------+-------------------------------------+-------------------------------------+--------------------+--------------------+--------------------+--------------------+--------------------+--------------------+--------------------+--------------------+--------------------+--------------------+--------------------+--------------------+--------------------+--------------------+--------------------+--------------------+--------------------+--------+\n",
      "|  count|          1632802|           1632802|              1632802|           1632802|             1632802|             1632802|             1632802|           1632802|                              1632800|                              1632802|                              1632801|                              1632801|                              1632802|             1632800|                              1632801|                              1632802|                              1632801|                              1632802|                              1632802|                              1632802|                              1632801|                              1632802|                              1632802|                              1632802|                  1632800|             1632801|               1632800|             1632801|             1632800| 1632799|             1632801|             1632802|              1632802|               1632800|                              1632800|                 1632801|                              1632802|             1632802|                1632801|                              1632801|                              1632802|                              1632802|             1632801|             1632802|             1632802|             1632802|             1632802|             1632802|             1632802|             1632802|             1632802|             1632802|             1632802|             1632802|             1632802|             1632802|             1632802|             1632802|             1632802|       0|\n",
      "|   mean|         816402.5|0.6616093071909515|    39.79016316736506|0.4926594305293454|                null|                null|                null| 17.06537758806448|                 4.415011111111111E64|                 6.416666666666666E57|                                  NaN|                 1.563762626262626...|                 2.382611832611825E58|1.667782782976430...|                  4.83091787439686E70|                 5.747170498141761...|                 1.176471764705882...|                 2.352942352941176...|                 1.075268817204301E58|                 9.090909090909091E57|                 6.612729234519957E59|                 1.211526104417670...|                 8.333333333333334E91|                 4.535147397588057E69|     1.408450704233176...|1.298701298701298...|  1.234567901234567...|            Infinity|1.149680715197956...|Infinity|7.31528895391368E104|1.190476190476190...| 1.492537313432836E58|  1.694915254425611...|                 1.620372729166666...|    1.666666666666666...|                 2.222237710437704...|                null|   3.382154882154882E60|                 1.785838744588744...|                 1.639345404868355...|                  9.43510482181237E52|1.724137969348658...|                null|                null|                null|                null|                null|                null|                null|                null|                null|                null|                null|                null|                null|                null|                null|                null|    null|\n",
      "| stddev|471349.4814542273|0.4731623071894293|    24.32977573069753|0.4999462662459375|                null|                null|                null|13.882582155562657|                 5.425256391204924E65|                 8.006360039073238E58|                                  NaN|                 1.249984276335484E59|                 1.543007643752442...|1.290980084914038E59|                 5.675043538391651E71|                 7.580980100001882E64|                 1.084652276181295...|                 2.169304565274305...|                 1.036951694730425...|                 9.534625892455923E58|                 6.568345019225561E60|                 1.097585021795355...|                   7.4535599249993E92|                 5.498573992238154E70|     1.186781658193759...|1.139605764596379...|  1.111111111111111...|                 NaN|1.072109790989570...|     NaN|2.704679085199144...|1.091089451179962E59| 1.221694443563052...|  1.301889109805744...|                 1.122627142905426...|    1.290994448735805...|                 1.490711748903984...|                null|   2.735204785490008E61|                  1.33630451941593E59|                 1.280368784456299...|                  9.71294553396126E53| 1.31306432808531E59|                null|                null|                null|                null|                null|                null|                null|                null|                null|                null|                null|                null|                null|                null|                null|                null|    null|\n",
      "|    min|               10|                 0|                    0|                 0|banskobystricky k...|2004-10-23 12:36:...|1999-11-01 00:00:...|                 0|                                     |                                     |                                     |                                     |                                     |                    |                                     |                                     |                              \u0002u¶muej|                                     |                                     |                                     |                                     |                                     |                                     |                                     |                         |                    |                      |                    |                    |        |                    |                    |                     |                      |                                     |                        |                                     |<div> <a title=\"v...|                       |                                     |                                     |                           \u0013a\u0003)nu˙÷˙˙|                    |<div> <a title=\"v...|<div> <a title=\"v...|<div> <a title=\"v...|<div> <a title=\"v...|<div> <a title=\"v...|<div> <a title=\"v...|<div> <a title=\"v...|<div> <a title=\"v...|<div> <a title=\"v...|<div> <a title=\"v...|<div> <a title=\"v...|<div> <a title=\"v...|<div> <a title=\"v...|<div> <a title=\"v...|<div> <a title=\"v...|<div> <a title=\"v...|    null|\n",
      "|    max|           999999|                 1|                   98|              null|zilinsky kraj, zi...|                null|                null|              null|ｓｈｕｔ　ｕｐ　ａｎｄ　ｅｎｊｏｙ...|ｓｈｕｔ　ｕｐ　ａｎｄ　ｅｎｊｏｙ...|ｓｈｕｔ　ｕｐ　ａｎｄ　ｅｎｊｏｙ...|ｓｈｕｔ　ｕｐ　ａｎｄ　ｅｎｊｏｙ...|ｓｈｕｔ　ｕｐ　ａｎｄ　ｅｎｊｏｙ...|｡(◕ ‿ ◕)° sadisti...|ｓｈｕｔ　ｕｐ　ａｎｄ　ｅｎｊｏｙ...|ｓｈｕｔ　ｕｐ　ａｎｄ　ｅｎｊｏｙ...|ｓｈｕｔ　ｕｐ　ａｎｄ　ｅｎｊｏｙ...|ｓｈｕｔ　ｕｐ　ａｎｄ　ｅｎｊｏｙ...|ｓｈｕｔ　ｕｐ　ａｎｄ　ｅｎｊｏｙ...|ｓｈｕｔ　ｕｐ　ａｎｄ　ｅｎｊｏｙ...|ｓｈｕｔ　ｕｐ　ａｎｄ　ｅｎｊｏｙ...|ｓｈｕｔ　ｕｐ　ａｎｄ　ｅｎｊｏｙ...|ｓｈｕｔ　ｕｐ　ａｎｄ　ｅｎｊｏｙ...|ｓｈｕｔ　ｕｐ　ａｎｄ　ｅｎｊｏｙ...|                        �|                   �|                     �|                   �|              �enat�|       �|                   �|    ﻑﻗﺆﺆﮞﺢﻄﺑ  ﺸﺚﺵﻭﻱﻶ|                    Ꙫ|：） disko, rock, t...|ｓｈｕｔ　ｕｐ　ａｎｄ　ｅｎｊｏｙ...|    �s? na koncert, p...|ｓｈｕｔ　ｕｐ　ａｎｄ　ｅｎｊｏｙ...|                null|                     走|ｓｈｕｔ　ｕｐ　ａｎｄ　ｅｎｊｏｙ...|ｓｈｕｔ　ｕｐ　ａｎｄ　ｅｎｊｏｙ...|ｓｈｕｔ　ｕｐ　ａｎｄ　ｅｎｊｏｙ...|      飄不進你的心中|                null|                null|                null|                null|                null|                null|                null|                null|                null|                null|                null|                null|                null|                null|                null|                null|    null|\n",
      "+-------+-----------------+------------------+---------------------+------------------+--------------------+--------------------+--------------------+------------------+-------------------------------------+-------------------------------------+-------------------------------------+-------------------------------------+-------------------------------------+--------------------+-------------------------------------+-------------------------------------+-------------------------------------+-------------------------------------+-------------------------------------+-------------------------------------+-------------------------------------+-------------------------------------+-------------------------------------+-------------------------------------+-------------------------+--------------------+----------------------+--------------------+--------------------+--------+--------------------+--------------------+---------------------+----------------------+-------------------------------------+------------------------+-------------------------------------+--------------------+-----------------------+-------------------------------------+-------------------------------------+-------------------------------------+--------------------+--------------------+--------------------+--------------------+--------------------+--------------------+--------------------+--------------------+--------------------+--------------------+--------------------+--------------------+--------------------+--------------------+--------------------+--------------------+--------------------+--------+\n",
      "\n"
     ]
    }
   ],
   "source": [
    "print(\"Following is the summary of Profile Data\")\n",
    "df_profile.describe().show()"
   ]
  },
  {
   "cell_type": "markdown",
   "metadata": {},
   "source": [
    "### We have explore the no. of rows and dimensions of data and now we will Clean and Process our Data using Pandas"
   ]
  },
  {
   "cell_type": "code",
   "execution_count": 17,
   "metadata": {},
   "outputs": [
    {
     "name": "stdout",
     "output_type": "stream",
     "text": [
      "['user_id', 'public', 'completion_percentage', 'gender', 'region', 'last_login', 'registration', 'AGE', 'body', 'I_am_working_in_field', 'spoken_languages', 'hobbies', 'I_most_enjoy_good_food', 'pets', 'body_type', 'my_eyesight', 'eye_color', 'hair_color', 'hair_type', 'completed_level_of_education', 'favourite_color', ' relation_to_smoking', 'relation_to_alcohol', 'sign_in_zodiac', 'on_pokec_i_am_looking_for', 'love_is_for_me', 'relation_to_casual_sex', 'my_partner_should_be', 'marital_status', 'children', 'relation_to_children', 'I_like_movies', 'I_like_watching_movie', 'I_like_music', 'I_mostly_like_listening_to_music', 'the_idea_of_good_evening', 'I_like_specialties_from_kitchen', 'fun', ' I_am_going_to_concerts', 'my_active_sports', 'my_passive_sports', ' profession', 'I_like_books', 'life_style', 'music', 'cars', 'politics', 'relationships', 'art_culture', 'hobbies_interests', 'science_technologies', 'computers_internet', ' education', 'sport', 'movies', 'travelling', 'health', 'companies_brands', 'is_vergin', 'is_white']\n"
     ]
    }
   ],
   "source": [
    "print(df_profile.columns)"
   ]
  },
  {
   "cell_type": "code",
   "execution_count": 130,
   "metadata": {},
   "outputs": [],
   "source": [
    "def count_nulls(column, df = df_profile):\n",
    "    return df_profile.filter(df[column] == 'null').count()"
   ]
  },
  {
   "cell_type": "code",
   "execution_count": 131,
   "metadata": {},
   "outputs": [
    {
     "data": {
      "text/plain": [
       "163"
      ]
     },
     "execution_count": 131,
     "metadata": {},
     "output_type": "execute_result"
    }
   ],
   "source": [
    "# Total Null Values in Gender column\n",
    "count_nulls('gender')"
   ]
  },
  {
   "cell_type": "markdown",
   "metadata": {},
   "source": [
    "### Removing Null Values "
   ]
  },
  {
   "cell_type": "code",
   "execution_count": null,
   "metadata": {},
   "outputs": [],
   "source": [
    "from pyspark.sql.functions import col"
   ]
  },
  {
   "cell_type": "code",
   "execution_count": 181,
   "metadata": {},
   "outputs": [],
   "source": [
    "keys_of_null = df_profile.select('user_id').filter((df_profile.gender == 'null') | (df_profile.region == 'null')\\\n",
    "                                   |(df_profile.registration == 'null')|(df_profile.AGE == 'null')\\\n",
    "                                   |(df_profile.spoken_languages == 'null')|(df_profile.hobbies == 'null')\\\n",
    "                                   |(df_profile.hair_type == 'null')|(df_profile.love_is_for_me == 'null')\\\n",
    "                                   |(df_profile.I_like_movies == 'null')|(df_profile.fun == 'null')\\\n",
    "                                   |(df_profile.politics == 'null')|(df_profile.cars == 'null')\\\n",
    "                                   |(df_profile.relationships == 'null')|(df_profile.computers_internet == 'null')\\\n",
    "                                   |(df_profile.sport == 'null')|(df_profile.companies_brands == 'null'))"
   ]
  },
  {
   "cell_type": "code",
   "execution_count": 184,
   "metadata": {},
   "outputs": [
    {
     "data": {
      "text/plain": [
       "DataFrame[user_id: string]"
      ]
     },
     "execution_count": 184,
     "metadata": {},
     "output_type": "execute_result"
    }
   ],
   "source": [
    "keys_of_null"
   ]
  },
  {
   "cell_type": "code",
   "execution_count": 7,
   "metadata": {},
   "outputs": [],
   "source": [
    "pd_df_profile = pd.read_csv('dataset/soc-pokec-profiles.txt', delimiter='\\t')\n",
    "pd_df_profile.columns = ['user_id','public','completion_percentage','gender','region','last_login','registration','AGE',\\\n",
    "               'body','I_am_working_in_field','spoken_languages','hobbies','I_most_enjoy_good_food','pets','body_type',\\\n",
    "               'my_eyesight','eye_color','hair_color','hair_type','completed_level_of_education','favourite_color',\\\n",
    "               ' relation_to_smoking','relation_to_alcohol','sign_in_zodiac','on_pokec_i_am_looking_for','love_is_for_me',\\\n",
    "               'relation_to_casual_sex','my_partner_should_be','marital_status','children','relation_to_children',\\\n",
    "               'I_like_movies','I_like_watching_movie','I_like_music','I_mostly_like_listening_to_music',\\\n",
    "               'the_idea_of_good_evening','I_like_specialties_from_kitchen','fun',' I_am_going_to_concerts',\\\n",
    "               'my_active_sports','my_passive_sports',' profession','I_like_books','life_style','music','cars','politics',\\\n",
    "               'relationships','art_culture','hobbies_interests','science_technologies','computers_internet',' education',\\\n",
    "               'sport','movies','travelling','health','companies_brands','is_vergin','is_white']"
   ]
  },
  {
   "cell_type": "code",
   "execution_count": 8,
   "metadata": {},
   "outputs": [],
   "source": [
    "pd_df_relationship = pd.read_csv('dataset/soc-pokec-relationships.txt', delimiter='\\t')\n",
    "pd_df_relationship.columns = ['Foriegn_key','Friend_key']"
   ]
  },
  {
   "cell_type": "markdown",
   "metadata": {},
   "source": [
    "#### No. of null values in each column of profile data"
   ]
  },
  {
   "cell_type": "code",
   "execution_count": 49,
   "metadata": {},
   "outputs": [
    {
     "data": {
      "text/plain": [
       "user_id                                   0\n",
       "public                                    0\n",
       "completion_percentage                     0\n",
       "gender                                  163\n",
       "region                                  163\n",
       "last_login                              163\n",
       "registration                            163\n",
       "AGE                                     163\n",
       "body                                 838959\n",
       "I_am_working_in_field               1051691\n",
       "spoken_languages                     831112\n",
       "hobbies                              828490\n",
       "I_most_enjoy_good_food               936563\n",
       "pets                                 932122\n",
       "body_type                            886859\n",
       "my_eyesight                          814890\n",
       "eye_color                            732963\n",
       "hair_color                           779960\n",
       "hair_type                            861848\n",
       "completed_level_of_education         886857\n",
       "favourite_color                      804926\n",
       " relation_to_smoking                 786858\n",
       "relation_to_alcohol                  805136\n",
       "sign_in_zodiac                       790450\n",
       "on_pokec_i_am_looking_for            853358\n",
       "love_is_for_me                       894300\n",
       "relation_to_casual_sex              1009507\n",
       "my_partner_should_be                 909388\n",
       "marital_status                       882422\n",
       "children                            1157113\n",
       "relation_to_children                1129063\n",
       "I_like_movies                        840641\n",
       "I_like_watching_movie                903297\n",
       "I_like_music                         865698\n",
       "I_mostly_like_listening_to_music     882999\n",
       "the_idea_of_good_evening             914405\n",
       "I_like_specialties_from_kitchen      910337\n",
       "fun                                 1443427\n",
       " I_am_going_to_concerts             1085914\n",
       "my_active_sports                     953797\n",
       "my_passive_sports                    993704\n",
       " profession                         1158917\n",
       "I_like_books                         966632\n",
       "life_style                          1412982\n",
       "music                               1462051\n",
       "cars                                1583552\n",
       "politics                            1605457\n",
       "relationships                       1422256\n",
       "art_culture                         1596870\n",
       "hobbies_interests                   1498402\n",
       "science_technologies                1601501\n",
       "computers_internet                  1581150\n",
       " education                          1582986\n",
       "sport                               1552921\n",
       "movies                              1560892\n",
       "travelling                          1597762\n",
       "health                              1587497\n",
       "companies_brands                    1610823\n",
       "is_vergin                           1442214\n",
       "is_white                            1632802\n",
       "dtype: int64"
      ]
     },
     "execution_count": 49,
     "metadata": {},
     "output_type": "execute_result"
    }
   ],
   "source": [
    "pd_df_profile.isnull().sum()"
   ]
  },
  {
   "cell_type": "markdown",
   "metadata": {},
   "source": [
    "### No. of null values in each column of relationship data"
   ]
  },
  {
   "cell_type": "code",
   "execution_count": 63,
   "metadata": {},
   "outputs": [
    {
     "data": {
      "text/plain": [
       "Foriegn_key    0\n",
       "Friend_key     0\n",
       "dtype: int64"
      ]
     },
     "execution_count": 63,
     "metadata": {},
     "output_type": "execute_result"
    }
   ],
   "source": [
    "pd_df_relationship.isnull().sum()"
   ]
  },
  {
   "cell_type": "code",
   "execution_count": 9,
   "metadata": {},
   "outputs": [],
   "source": [
    "#change the type of columns\n",
    "for c in pd_df_profile.columns:\n",
    "    pd_df_profile[c] = pd_df_profile[c].astype('category')"
   ]
  },
  {
   "cell_type": "code",
   "execution_count": 20,
   "metadata": {},
   "outputs": [
    {
     "data": {
      "text/html": [
       "<div>\n",
       "<style scoped>\n",
       "    .dataframe tbody tr th:only-of-type {\n",
       "        vertical-align: middle;\n",
       "    }\n",
       "\n",
       "    .dataframe tbody tr th {\n",
       "        vertical-align: top;\n",
       "    }\n",
       "\n",
       "    .dataframe thead th {\n",
       "        text-align: right;\n",
       "    }\n",
       "</style>\n",
       "<table border=\"1\" class=\"dataframe\">\n",
       "  <thead>\n",
       "    <tr style=\"text-align: right;\">\n",
       "      <th></th>\n",
       "      <th>user_id</th>\n",
       "      <th>public</th>\n",
       "      <th>completion_percentage</th>\n",
       "      <th>gender</th>\n",
       "      <th>region</th>\n",
       "      <th>last_login</th>\n",
       "      <th>registration</th>\n",
       "      <th>AGE</th>\n",
       "      <th>body</th>\n",
       "      <th>I_am_working_in_field</th>\n",
       "      <th>...</th>\n",
       "      <th>science_technologies</th>\n",
       "      <th>computers_internet</th>\n",
       "      <th>education</th>\n",
       "      <th>sport</th>\n",
       "      <th>movies</th>\n",
       "      <th>travelling</th>\n",
       "      <th>health</th>\n",
       "      <th>companies_brands</th>\n",
       "      <th>is_vergin</th>\n",
       "      <th>is_white</th>\n",
       "    </tr>\n",
       "  </thead>\n",
       "  <tbody>\n",
       "    <tr>\n",
       "      <td>0</td>\n",
       "      <td>2</td>\n",
       "      <td>1</td>\n",
       "      <td>62</td>\n",
       "      <td>0.0</td>\n",
       "      <td>zilinsky kraj, kysucke nove mesto</td>\n",
       "      <td>2012-05-25 23:08:00.0</td>\n",
       "      <td>2007-11-30 00:00:00.0</td>\n",
       "      <td>0.0</td>\n",
       "      <td>166 cm, 58 kg</td>\n",
       "      <td>NaN</td>\n",
       "      <td>...</td>\n",
       "      <td>NaN</td>\n",
       "      <td>NaN</td>\n",
       "      <td>NaN</td>\n",
       "      <td>NaN</td>\n",
       "      <td>NaN</td>\n",
       "      <td>NaN</td>\n",
       "      <td>NaN</td>\n",
       "      <td>NaN</td>\n",
       "      <td>NaN</td>\n",
       "      <td>NaN</td>\n",
       "    </tr>\n",
       "    <tr>\n",
       "      <td>1</td>\n",
       "      <td>16</td>\n",
       "      <td>1</td>\n",
       "      <td>64</td>\n",
       "      <td>1.0</td>\n",
       "      <td>zilinsky kraj, kysucke nove mesto</td>\n",
       "      <td>2012-05-25 23:19:40.0</td>\n",
       "      <td>2008-05-18 00:00:00.0</td>\n",
       "      <td>23.0</td>\n",
       "      <td>173 cm, 70 kg</td>\n",
       "      <td>najvatcsej firme na svete urad prace</td>\n",
       "      <td>...</td>\n",
       "      <td>NaN</td>\n",
       "      <td>NaN</td>\n",
       "      <td>NaN</td>\n",
       "      <td>NaN</td>\n",
       "      <td>NaN</td>\n",
       "      <td>NaN</td>\n",
       "      <td>NaN</td>\n",
       "      <td>NaN</td>\n",
       "      <td>NaN</td>\n",
       "      <td>NaN</td>\n",
       "    </tr>\n",
       "    <tr>\n",
       "      <td>2</td>\n",
       "      <td>3</td>\n",
       "      <td>0</td>\n",
       "      <td>38</td>\n",
       "      <td>1.0</td>\n",
       "      <td>bratislavsky kraj, bratislava - karlova ves</td>\n",
       "      <td>2012-05-10 18:05:00.0</td>\n",
       "      <td>2010-05-23 00:00:00.0</td>\n",
       "      <td>29.0</td>\n",
       "      <td>NaN</td>\n",
       "      <td>reklamy a medii, sluzieb a obchodu</td>\n",
       "      <td>...</td>\n",
       "      <td>NaN</td>\n",
       "      <td>NaN</td>\n",
       "      <td>NaN</td>\n",
       "      <td>NaN</td>\n",
       "      <td>NaN</td>\n",
       "      <td>NaN</td>\n",
       "      <td>NaN</td>\n",
       "      <td>NaN</td>\n",
       "      <td>NaN</td>\n",
       "      <td>NaN</td>\n",
       "    </tr>\n",
       "    <tr>\n",
       "      <td>3</td>\n",
       "      <td>4</td>\n",
       "      <td>1</td>\n",
       "      <td>12</td>\n",
       "      <td>0.0</td>\n",
       "      <td>banskobystricky kraj, brezno</td>\n",
       "      <td>2011-12-29 12:25:00.0</td>\n",
       "      <td>2011-12-29 00:00:00.0</td>\n",
       "      <td>26.0</td>\n",
       "      <td>NaN</td>\n",
       "      <td>NaN</td>\n",
       "      <td>...</td>\n",
       "      <td>NaN</td>\n",
       "      <td>NaN</td>\n",
       "      <td>NaN</td>\n",
       "      <td>NaN</td>\n",
       "      <td>NaN</td>\n",
       "      <td>NaN</td>\n",
       "      <td>NaN</td>\n",
       "      <td>NaN</td>\n",
       "      <td>NaN</td>\n",
       "      <td>NaN</td>\n",
       "    </tr>\n",
       "    <tr>\n",
       "      <td>4</td>\n",
       "      <td>17</td>\n",
       "      <td>1</td>\n",
       "      <td>47</td>\n",
       "      <td>0.0</td>\n",
       "      <td>zilinsky kraj, martin</td>\n",
       "      <td>2012-05-25 09:40:00.0</td>\n",
       "      <td>2006-10-21 00:00:00.0</td>\n",
       "      <td>27.0</td>\n",
       "      <td>162 cm, 60 kg</td>\n",
       "      <td>NaN</td>\n",
       "      <td>...</td>\n",
       "      <td>NaN</td>\n",
       "      <td>NaN</td>\n",
       "      <td>NaN</td>\n",
       "      <td>NaN</td>\n",
       "      <td>NaN</td>\n",
       "      <td>NaN</td>\n",
       "      <td>NaN</td>\n",
       "      <td>NaN</td>\n",
       "      <td>NaN</td>\n",
       "      <td>NaN</td>\n",
       "    </tr>\n",
       "    <tr>\n",
       "      <td>5</td>\n",
       "      <td>5</td>\n",
       "      <td>1</td>\n",
       "      <td>66</td>\n",
       "      <td>1.0</td>\n",
       "      <td>zilinsky kraj, zilina</td>\n",
       "      <td>2012-05-25 01:10:00.0</td>\n",
       "      <td>2006-05-29 00:00:00.0</td>\n",
       "      <td>26.0</td>\n",
       "      <td>NaN</td>\n",
       "      <td>som nezamestnany</td>\n",
       "      <td>...</td>\n",
       "      <td>NaN</td>\n",
       "      <td>NaN</td>\n",
       "      <td>NaN</td>\n",
       "      <td>NaN</td>\n",
       "      <td>NaN</td>\n",
       "      <td>NaN</td>\n",
       "      <td>NaN</td>\n",
       "      <td>NaN</td>\n",
       "      <td>NaN</td>\n",
       "      <td>NaN</td>\n",
       "    </tr>\n",
       "    <tr>\n",
       "      <td>6</td>\n",
       "      <td>18</td>\n",
       "      <td>1</td>\n",
       "      <td>31</td>\n",
       "      <td>1.0</td>\n",
       "      <td>zilinsky kraj, kysucke nove mesto</td>\n",
       "      <td>2012-05-02 21:19:00.0</td>\n",
       "      <td>2007-12-13 00:00:00.0</td>\n",
       "      <td>18.0</td>\n",
       "      <td>NaN</td>\n",
       "      <td>NaN</td>\n",
       "      <td>...</td>\n",
       "      <td>NaN</td>\n",
       "      <td>NaN</td>\n",
       "      <td>NaN</td>\n",
       "      <td>NaN</td>\n",
       "      <td>NaN</td>\n",
       "      <td>NaN</td>\n",
       "      <td>NaN</td>\n",
       "      <td>NaN</td>\n",
       "      <td>NaN</td>\n",
       "      <td>NaN</td>\n",
       "    </tr>\n",
       "    <tr>\n",
       "      <td>7</td>\n",
       "      <td>31</td>\n",
       "      <td>1</td>\n",
       "      <td>62</td>\n",
       "      <td>1.0</td>\n",
       "      <td>zilinsky kraj, kysucke nove mesto</td>\n",
       "      <td>2012-02-18 13:20:00.0</td>\n",
       "      <td>2007-01-01 00:00:00.0</td>\n",
       "      <td>24.0</td>\n",
       "      <td>170 cm, 75 kg</td>\n",
       "      <td>NaN</td>\n",
       "      <td>...</td>\n",
       "      <td>NaN</td>\n",
       "      <td>NaN</td>\n",
       "      <td>NaN</td>\n",
       "      <td>NaN</td>\n",
       "      <td>NaN</td>\n",
       "      <td>NaN</td>\n",
       "      <td>NaN</td>\n",
       "      <td>NaN</td>\n",
       "      <td>NaN</td>\n",
       "      <td>NaN</td>\n",
       "    </tr>\n",
       "    <tr>\n",
       "      <td>8</td>\n",
       "      <td>19</td>\n",
       "      <td>1</td>\n",
       "      <td>64</td>\n",
       "      <td>1.0</td>\n",
       "      <td>zilinsky kraj, kysucke nove mesto</td>\n",
       "      <td>2012-05-25 19:34:00.0</td>\n",
       "      <td>2007-03-23 00:00:00.0</td>\n",
       "      <td>21.0</td>\n",
       "      <td>0.19 cm, 88 kg</td>\n",
       "      <td>sexualnej</td>\n",
       "      <td>...</td>\n",
       "      <td>NaN</td>\n",
       "      <td>NaN</td>\n",
       "      <td>NaN</td>\n",
       "      <td>NaN</td>\n",
       "      <td>NaN</td>\n",
       "      <td>NaN</td>\n",
       "      <td>NaN</td>\n",
       "      <td>NaN</td>\n",
       "      <td>NaN</td>\n",
       "      <td>NaN</td>\n",
       "    </tr>\n",
       "    <tr>\n",
       "      <td>9</td>\n",
       "      <td>6</td>\n",
       "      <td>0</td>\n",
       "      <td>22</td>\n",
       "      <td>0.0</td>\n",
       "      <td>zilinsky kraj, zilina</td>\n",
       "      <td>2012-05-25 20:40:00.0</td>\n",
       "      <td>2007-12-15 00:00:00.0</td>\n",
       "      <td>38.0</td>\n",
       "      <td>160 cm, 57 kg</td>\n",
       "      <td>NaN</td>\n",
       "      <td>...</td>\n",
       "      <td>NaN</td>\n",
       "      <td>NaN</td>\n",
       "      <td>NaN</td>\n",
       "      <td>NaN</td>\n",
       "      <td>NaN</td>\n",
       "      <td>NaN</td>\n",
       "      <td>NaN</td>\n",
       "      <td>NaN</td>\n",
       "      <td>NaN</td>\n",
       "      <td>NaN</td>\n",
       "    </tr>\n",
       "  </tbody>\n",
       "</table>\n",
       "<p>10 rows × 60 columns</p>\n",
       "</div>"
      ],
      "text/plain": [
       "  user_id public completion_percentage gender  \\\n",
       "0       2      1                    62    0.0   \n",
       "1      16      1                    64    1.0   \n",
       "2       3      0                    38    1.0   \n",
       "3       4      1                    12    0.0   \n",
       "4      17      1                    47    0.0   \n",
       "5       5      1                    66    1.0   \n",
       "6      18      1                    31    1.0   \n",
       "7      31      1                    62    1.0   \n",
       "8      19      1                    64    1.0   \n",
       "9       6      0                    22    0.0   \n",
       "\n",
       "                                        region             last_login  \\\n",
       "0            zilinsky kraj, kysucke nove mesto  2012-05-25 23:08:00.0   \n",
       "1            zilinsky kraj, kysucke nove mesto  2012-05-25 23:19:40.0   \n",
       "2  bratislavsky kraj, bratislava - karlova ves  2012-05-10 18:05:00.0   \n",
       "3                 banskobystricky kraj, brezno  2011-12-29 12:25:00.0   \n",
       "4                        zilinsky kraj, martin  2012-05-25 09:40:00.0   \n",
       "5                        zilinsky kraj, zilina  2012-05-25 01:10:00.0   \n",
       "6            zilinsky kraj, kysucke nove mesto  2012-05-02 21:19:00.0   \n",
       "7            zilinsky kraj, kysucke nove mesto  2012-02-18 13:20:00.0   \n",
       "8            zilinsky kraj, kysucke nove mesto  2012-05-25 19:34:00.0   \n",
       "9                        zilinsky kraj, zilina  2012-05-25 20:40:00.0   \n",
       "\n",
       "            registration   AGE            body  \\\n",
       "0  2007-11-30 00:00:00.0   0.0   166 cm, 58 kg   \n",
       "1  2008-05-18 00:00:00.0  23.0   173 cm, 70 kg   \n",
       "2  2010-05-23 00:00:00.0  29.0             NaN   \n",
       "3  2011-12-29 00:00:00.0  26.0             NaN   \n",
       "4  2006-10-21 00:00:00.0  27.0   162 cm, 60 kg   \n",
       "5  2006-05-29 00:00:00.0  26.0             NaN   \n",
       "6  2007-12-13 00:00:00.0  18.0             NaN   \n",
       "7  2007-01-01 00:00:00.0  24.0   170 cm, 75 kg   \n",
       "8  2007-03-23 00:00:00.0  21.0  0.19 cm, 88 kg   \n",
       "9  2007-12-15 00:00:00.0  38.0   160 cm, 57 kg   \n",
       "\n",
       "                  I_am_working_in_field  ... science_technologies  \\\n",
       "0                                   NaN  ...                  NaN   \n",
       "1  najvatcsej firme na svete urad prace  ...                  NaN   \n",
       "2    reklamy a medii, sluzieb a obchodu  ...                  NaN   \n",
       "3                                   NaN  ...                  NaN   \n",
       "4                                   NaN  ...                  NaN   \n",
       "5                      som nezamestnany  ...                  NaN   \n",
       "6                                   NaN  ...                  NaN   \n",
       "7                                   NaN  ...                  NaN   \n",
       "8                             sexualnej  ...                  NaN   \n",
       "9                                   NaN  ...                  NaN   \n",
       "\n",
       "  computers_internet  education sport movies travelling health  \\\n",
       "0                NaN        NaN   NaN    NaN        NaN    NaN   \n",
       "1                NaN        NaN   NaN    NaN        NaN    NaN   \n",
       "2                NaN        NaN   NaN    NaN        NaN    NaN   \n",
       "3                NaN        NaN   NaN    NaN        NaN    NaN   \n",
       "4                NaN        NaN   NaN    NaN        NaN    NaN   \n",
       "5                NaN        NaN   NaN    NaN        NaN    NaN   \n",
       "6                NaN        NaN   NaN    NaN        NaN    NaN   \n",
       "7                NaN        NaN   NaN    NaN        NaN    NaN   \n",
       "8                NaN        NaN   NaN    NaN        NaN    NaN   \n",
       "9                NaN        NaN   NaN    NaN        NaN    NaN   \n",
       "\n",
       "  companies_brands is_vergin is_white  \n",
       "0              NaN       NaN      NaN  \n",
       "1              NaN       NaN      NaN  \n",
       "2              NaN       NaN      NaN  \n",
       "3              NaN       NaN      NaN  \n",
       "4              NaN       NaN      NaN  \n",
       "5              NaN       NaN      NaN  \n",
       "6              NaN       NaN      NaN  \n",
       "7              NaN       NaN      NaN  \n",
       "8              NaN       NaN      NaN  \n",
       "9              NaN       NaN      NaN  \n",
       "\n",
       "[10 rows x 60 columns]"
      ]
     },
     "execution_count": 20,
     "metadata": {},
     "output_type": "execute_result"
    }
   ],
   "source": [
    "pd_df_profile.head(10)"
   ]
  },
  {
   "cell_type": "code",
   "execution_count": null,
   "metadata": {},
   "outputs": [],
   "source": []
  },
  {
   "cell_type": "code",
   "execution_count": 22,
   "metadata": {},
   "outputs": [],
   "source": [
    "# age_null = pd_df_profile.loc[pd_df_profile.body == pd.isna(pd_df_profile)]\n",
    "null_users = pd_df_profile.loc[(pd.isna(pd_df_profile.body)) | pd.isna(pd_df_profile.gender)\\\n",
    "                               |(pd.isna(pd_df_profile.I_am_working_in_field))\\\n",
    "                               |(pd.isna(pd_df_profile.body))\\\n",
    "                               |(pd.isna(pd_df_profile.science_technologies)) \n",
    "                               |(pd.isna(pd_df_profile.region))\\\n",
    "                               |(pd.isna(pd_df_profile.travelling))\\\n",
    "                               |(pd.isna(pd_df_profile.health))\\\n",
    "                               |(pd.isna(pd_df_profile.sport))\\\n",
    "                               |(pd.isna(pd_df_profile.movies))\\\n",
    "                               |(pd.isna(pd_df_profile.companies_brands))\\\n",
    "                               |(pd.isna(pd_df_profile.is_white))]['user_id']"
   ]
  },
  {
   "cell_type": "code",
   "execution_count": 23,
   "metadata": {},
   "outputs": [],
   "source": []
  },
  {
   "cell_type": "code",
   "execution_count": 24,
   "metadata": {},
   "outputs": [],
   "source": [
    "friends_df = pd_df_profile.loc[pd_df_profile.user_id.isin(friend_keys.Friend_key)]"
   ]
  },
  {
   "cell_type": "code",
   "execution_count": 117,
   "metadata": {},
   "outputs": [],
   "source": [
    "def fill_values_by_friends(key,df_real = pd_df_profile, df_relationsihp = friend_keys, df_friends = friends_df):\n",
    "    friends_id = friend_keys.Friend_key[friend_keys.Foriegn_key == key]\n",
    "    #now extract a specific record\n",
    "    # of a friend\n",
    "    friend_data = friends_df[friends_df.user_id == friends_id.iloc[0]]\n",
    "    #now impute the values\n",
    "    pd_df_profile[pd_df_profile.user_id == key] = pd_df_profile[pd_df_profile.user_id == key].fillna(friend_data)"
   ]
  },
  {
   "cell_type": "code",
   "execution_count": 187,
   "metadata": {},
   "outputs": [],
   "source": [
    "map(fill_values_by_friends,set(friend_keys.Foriegn_key))"
   ]
  },
  {
   "cell_type": "code",
   "execution_count": 190,
   "metadata": {},
   "outputs": [],
   "source": [
    "small_df = pd_df_profile.iloc[0:5000,0:15]"
   ]
  },
  {
   "cell_type": "code",
   "execution_count": 195,
   "metadata": {},
   "outputs": [],
   "source": [
    "small_df.fillna(method='ffill', inplace = True)"
   ]
  },
  {
   "cell_type": "code",
   "execution_count": 196,
   "metadata": {},
   "outputs": [
    {
     "data": {
      "text/plain": [
       "user_id                   0\n",
       "public                    0\n",
       "completion_percentage     0\n",
       "gender                    0\n",
       "region                    0\n",
       "last_login                0\n",
       "registration              0\n",
       "AGE                       0\n",
       "body                      0\n",
       "I_am_working_in_field     0\n",
       "spoken_languages          0\n",
       "hobbies                   0\n",
       "I_most_enjoy_good_food    0\n",
       "pets                      0\n",
       "body_type                 0\n",
       "dtype: int64"
      ]
     },
     "execution_count": 196,
     "metadata": {},
     "output_type": "execute_result"
    }
   ],
   "source": [
    "# There is no  null value at all \n",
    "small_df.isnull().sum()"
   ]
  },
  {
   "cell_type": "code",
   "execution_count": 202,
   "metadata": {},
   "outputs": [],
   "source": [
    "# small_df.drop('user_id',axis=1, inplace=True)"
   ]
  },
  {
   "cell_type": "code",
   "execution_count": 205,
   "metadata": {},
   "outputs": [
    {
     "data": {
      "text/html": [
       "<div>\n",
       "<style scoped>\n",
       "    .dataframe tbody tr th:only-of-type {\n",
       "        vertical-align: middle;\n",
       "    }\n",
       "\n",
       "    .dataframe tbody tr th {\n",
       "        vertical-align: top;\n",
       "    }\n",
       "\n",
       "    .dataframe thead th {\n",
       "        text-align: right;\n",
       "    }\n",
       "</style>\n",
       "<table border=\"1\" class=\"dataframe\">\n",
       "  <thead>\n",
       "    <tr style=\"text-align: right;\">\n",
       "      <th></th>\n",
       "      <th>public</th>\n",
       "      <th>completion_percentage</th>\n",
       "      <th>gender</th>\n",
       "      <th>region</th>\n",
       "      <th>last_login</th>\n",
       "      <th>registration</th>\n",
       "      <th>AGE</th>\n",
       "      <th>body</th>\n",
       "      <th>I_am_working_in_field</th>\n",
       "      <th>spoken_languages</th>\n",
       "      <th>hobbies</th>\n",
       "      <th>I_most_enjoy_good_food</th>\n",
       "      <th>pets</th>\n",
       "      <th>body_type</th>\n",
       "    </tr>\n",
       "  </thead>\n",
       "  <tbody>\n",
       "    <tr>\n",
       "      <td>0</td>\n",
       "      <td>1</td>\n",
       "      <td>62</td>\n",
       "      <td>0.0</td>\n",
       "      <td>zilinsky kraj, kysucke nove mesto</td>\n",
       "      <td>2012-05-25 23:08:00.0</td>\n",
       "      <td>2007-11-30 00:00:00.0</td>\n",
       "      <td>0.0</td>\n",
       "      <td>166 cm, 58 kg</td>\n",
       "      <td>najvatcsej firme na svete urad prace</td>\n",
       "      <td>nemecky</td>\n",
       "      <td>turistika, prace okolo domu, praca s pc, pocuv...</td>\n",
       "      <td>pri svieckach s partnerom</td>\n",
       "      <td>macka</td>\n",
       "      <td>priemerna</td>\n",
       "    </tr>\n",
       "    <tr>\n",
       "      <td>1</td>\n",
       "      <td>1</td>\n",
       "      <td>64</td>\n",
       "      <td>1.0</td>\n",
       "      <td>zilinsky kraj, kysucke nove mesto</td>\n",
       "      <td>2012-05-25 23:19:40.0</td>\n",
       "      <td>2008-05-18 00:00:00.0</td>\n",
       "      <td>23.0</td>\n",
       "      <td>173 cm, 70 kg</td>\n",
       "      <td>najvatcsej firme na svete urad prace</td>\n",
       "      <td>no predsa svoj :d a najlepsie druhy</td>\n",
       "      <td>cestovanie, pocuvanie hudby, nenudit sa</td>\n",
       "      <td>v dobrej restauracii</td>\n",
       "      <td>ja a nas prefikany alik :)</td>\n",
       "      <td>nemozem pribrat nedasa smola som moc aktivny</td>\n",
       "    </tr>\n",
       "    <tr>\n",
       "      <td>2</td>\n",
       "      <td>0</td>\n",
       "      <td>38</td>\n",
       "      <td>1.0</td>\n",
       "      <td>bratislavsky kraj, bratislava - karlova ves</td>\n",
       "      <td>2012-05-10 18:05:00.0</td>\n",
       "      <td>2010-05-23 00:00:00.0</td>\n",
       "      <td>29.0</td>\n",
       "      <td>170 cm, 50 kg</td>\n",
       "      <td>reklamy a medii, sluzieb a obchodu</td>\n",
       "      <td>anglicky, nemecky</td>\n",
       "      <td>sportovanie, cestovanie</td>\n",
       "      <td>pri svieckach s partnerom, v prirode, v dobrej...</td>\n",
       "      <td>uz nemam ziadne</td>\n",
       "      <td>priemerna</td>\n",
       "    </tr>\n",
       "    <tr>\n",
       "      <td>3</td>\n",
       "      <td>1</td>\n",
       "      <td>12</td>\n",
       "      <td>0.0</td>\n",
       "      <td>banskobystricky kraj, brezno</td>\n",
       "      <td>2011-12-29 12:25:00.0</td>\n",
       "      <td>2011-12-29 00:00:00.0</td>\n",
       "      <td>26.0</td>\n",
       "      <td>170 cm, 50 kg</td>\n",
       "      <td>reklamy a medii, sluzieb a obchodu</td>\n",
       "      <td>anglicky, nemecky</td>\n",
       "      <td>sportovanie, cestovanie</td>\n",
       "      <td>pri svieckach s partnerom, v prirode, v dobrej...</td>\n",
       "      <td>uz nemam ziadne</td>\n",
       "      <td>priemerna</td>\n",
       "    </tr>\n",
       "    <tr>\n",
       "      <td>4</td>\n",
       "      <td>1</td>\n",
       "      <td>47</td>\n",
       "      <td>0.0</td>\n",
       "      <td>zilinsky kraj, martin</td>\n",
       "      <td>2012-05-25 09:40:00.0</td>\n",
       "      <td>2006-10-21 00:00:00.0</td>\n",
       "      <td>27.0</td>\n",
       "      <td>162 cm, 60 kg</td>\n",
       "      <td>reklamy a medii, sluzieb a obchodu</td>\n",
       "      <td>anglicky, nemecky</td>\n",
       "      <td>citanie, pocuvanie hudby, pozeranie filmov, sp...</td>\n",
       "      <td>pri svieckach s partnerom, v prirode, v dobrej...</td>\n",
       "      <td>pes</td>\n",
       "      <td>priemerna</td>\n",
       "    </tr>\n",
       "    <tr>\n",
       "      <td>5</td>\n",
       "      <td>1</td>\n",
       "      <td>66</td>\n",
       "      <td>1.0</td>\n",
       "      <td>zilinsky kraj, zilina</td>\n",
       "      <td>2012-05-25 01:10:00.0</td>\n",
       "      <td>2006-05-29 00:00:00.0</td>\n",
       "      <td>26.0</td>\n",
       "      <td>162 cm, 60 kg</td>\n",
       "      <td>som nezamestnany</td>\n",
       "      <td>anglicky, nemecky, pascal</td>\n",
       "      <td>sportovanie, prace v zahrade, pc hry, pocuvani...</td>\n",
       "      <td>v dobrej restauracii</td>\n",
       "      <td>nemam ziadne, nemam rad zvierata zo vseobecnos...</td>\n",
       "      <td>vysportovana</td>\n",
       "    </tr>\n",
       "    <tr>\n",
       "      <td>6</td>\n",
       "      <td>1</td>\n",
       "      <td>31</td>\n",
       "      <td>1.0</td>\n",
       "      <td>zilinsky kraj, kysucke nove mesto</td>\n",
       "      <td>2012-05-02 21:19:00.0</td>\n",
       "      <td>2007-12-13 00:00:00.0</td>\n",
       "      <td>18.0</td>\n",
       "      <td>162 cm, 60 kg</td>\n",
       "      <td>som nezamestnany</td>\n",
       "      <td>anglicky</td>\n",
       "      <td>sportovanie, prace v zahrade, pc hry, pocuvani...</td>\n",
       "      <td>v dobrej restauracii</td>\n",
       "      <td>nemam ziadne, nemam rad zvierata zo vseobecnos...</td>\n",
       "      <td>vysportovana</td>\n",
       "    </tr>\n",
       "    <tr>\n",
       "      <td>7</td>\n",
       "      <td>1</td>\n",
       "      <td>62</td>\n",
       "      <td>1.0</td>\n",
       "      <td>zilinsky kraj, kysucke nove mesto</td>\n",
       "      <td>2012-02-18 13:20:00.0</td>\n",
       "      <td>2007-01-01 00:00:00.0</td>\n",
       "      <td>24.0</td>\n",
       "      <td>170 cm, 75 kg</td>\n",
       "      <td>som nezamestnany</td>\n",
       "      <td>nemecky, slovensky,cesky,ale najlepsie svoj</td>\n",
       "      <td>sportovanie, turistika, prace okolo domu, prac...</td>\n",
       "      <td>v dobrej restauracii</td>\n",
       "      <td>pes, tinku</td>\n",
       "      <td>diky vyhovuje mi</td>\n",
       "    </tr>\n",
       "    <tr>\n",
       "      <td>8</td>\n",
       "      <td>1</td>\n",
       "      <td>64</td>\n",
       "      <td>1.0</td>\n",
       "      <td>zilinsky kraj, kysucke nove mesto</td>\n",
       "      <td>2012-05-25 19:34:00.0</td>\n",
       "      <td>2007-03-23 00:00:00.0</td>\n",
       "      <td>21.0</td>\n",
       "      <td>0.19 cm, 88 kg</td>\n",
       "      <td>sexualnej</td>\n",
       "      <td>no proste ten vlasny</td>\n",
       "      <td>sportovanie, cestovanie, turistika, pozeranie ...</td>\n",
       "      <td>v posteli, s niekym koho mam velmi rad</td>\n",
       "      <td>mam toho ako doroka dni</td>\n",
       "      <td>diky vyhovuje mi</td>\n",
       "    </tr>\n",
       "    <tr>\n",
       "      <td>9</td>\n",
       "      <td>0</td>\n",
       "      <td>22</td>\n",
       "      <td>0.0</td>\n",
       "      <td>zilinsky kraj, zilina</td>\n",
       "      <td>2012-05-25 20:40:00.0</td>\n",
       "      <td>2007-12-15 00:00:00.0</td>\n",
       "      <td>38.0</td>\n",
       "      <td>160 cm, 57 kg</td>\n",
       "      <td>sexualnej</td>\n",
       "      <td>no proste ten vlasny</td>\n",
       "      <td>sportovanie, cestovanie, turistika, pozeranie ...</td>\n",
       "      <td>v posteli, s niekym koho mam velmi rad</td>\n",
       "      <td>mam psika:)</td>\n",
       "      <td>diky vyhovuje mi</td>\n",
       "    </tr>\n",
       "  </tbody>\n",
       "</table>\n",
       "</div>"
      ],
      "text/plain": [
       "  public completion_percentage gender  \\\n",
       "0      1                    62    0.0   \n",
       "1      1                    64    1.0   \n",
       "2      0                    38    1.0   \n",
       "3      1                    12    0.0   \n",
       "4      1                    47    0.0   \n",
       "5      1                    66    1.0   \n",
       "6      1                    31    1.0   \n",
       "7      1                    62    1.0   \n",
       "8      1                    64    1.0   \n",
       "9      0                    22    0.0   \n",
       "\n",
       "                                        region             last_login  \\\n",
       "0            zilinsky kraj, kysucke nove mesto  2012-05-25 23:08:00.0   \n",
       "1            zilinsky kraj, kysucke nove mesto  2012-05-25 23:19:40.0   \n",
       "2  bratislavsky kraj, bratislava - karlova ves  2012-05-10 18:05:00.0   \n",
       "3                 banskobystricky kraj, brezno  2011-12-29 12:25:00.0   \n",
       "4                        zilinsky kraj, martin  2012-05-25 09:40:00.0   \n",
       "5                        zilinsky kraj, zilina  2012-05-25 01:10:00.0   \n",
       "6            zilinsky kraj, kysucke nove mesto  2012-05-02 21:19:00.0   \n",
       "7            zilinsky kraj, kysucke nove mesto  2012-02-18 13:20:00.0   \n",
       "8            zilinsky kraj, kysucke nove mesto  2012-05-25 19:34:00.0   \n",
       "9                        zilinsky kraj, zilina  2012-05-25 20:40:00.0   \n",
       "\n",
       "            registration   AGE            body  \\\n",
       "0  2007-11-30 00:00:00.0   0.0   166 cm, 58 kg   \n",
       "1  2008-05-18 00:00:00.0  23.0   173 cm, 70 kg   \n",
       "2  2010-05-23 00:00:00.0  29.0   170 cm, 50 kg   \n",
       "3  2011-12-29 00:00:00.0  26.0   170 cm, 50 kg   \n",
       "4  2006-10-21 00:00:00.0  27.0   162 cm, 60 kg   \n",
       "5  2006-05-29 00:00:00.0  26.0   162 cm, 60 kg   \n",
       "6  2007-12-13 00:00:00.0  18.0   162 cm, 60 kg   \n",
       "7  2007-01-01 00:00:00.0  24.0   170 cm, 75 kg   \n",
       "8  2007-03-23 00:00:00.0  21.0  0.19 cm, 88 kg   \n",
       "9  2007-12-15 00:00:00.0  38.0   160 cm, 57 kg   \n",
       "\n",
       "                  I_am_working_in_field  \\\n",
       "0  najvatcsej firme na svete urad prace   \n",
       "1  najvatcsej firme na svete urad prace   \n",
       "2    reklamy a medii, sluzieb a obchodu   \n",
       "3    reklamy a medii, sluzieb a obchodu   \n",
       "4    reklamy a medii, sluzieb a obchodu   \n",
       "5                      som nezamestnany   \n",
       "6                      som nezamestnany   \n",
       "7                      som nezamestnany   \n",
       "8                             sexualnej   \n",
       "9                             sexualnej   \n",
       "\n",
       "                              spoken_languages  \\\n",
       "0                                      nemecky   \n",
       "1          no predsa svoj :d a najlepsie druhy   \n",
       "2                            anglicky, nemecky   \n",
       "3                            anglicky, nemecky   \n",
       "4                            anglicky, nemecky   \n",
       "5                    anglicky, nemecky, pascal   \n",
       "6                                     anglicky   \n",
       "7  nemecky, slovensky,cesky,ale najlepsie svoj   \n",
       "8                         no proste ten vlasny   \n",
       "9                         no proste ten vlasny   \n",
       "\n",
       "                                             hobbies  \\\n",
       "0  turistika, prace okolo domu, praca s pc, pocuv...   \n",
       "1            cestovanie, pocuvanie hudby, nenudit sa   \n",
       "2                            sportovanie, cestovanie   \n",
       "3                            sportovanie, cestovanie   \n",
       "4  citanie, pocuvanie hudby, pozeranie filmov, sp...   \n",
       "5  sportovanie, prace v zahrade, pc hry, pocuvani...   \n",
       "6  sportovanie, prace v zahrade, pc hry, pocuvani...   \n",
       "7  sportovanie, turistika, prace okolo domu, prac...   \n",
       "8  sportovanie, cestovanie, turistika, pozeranie ...   \n",
       "9  sportovanie, cestovanie, turistika, pozeranie ...   \n",
       "\n",
       "                              I_most_enjoy_good_food  \\\n",
       "0                          pri svieckach s partnerom   \n",
       "1                               v dobrej restauracii   \n",
       "2  pri svieckach s partnerom, v prirode, v dobrej...   \n",
       "3  pri svieckach s partnerom, v prirode, v dobrej...   \n",
       "4  pri svieckach s partnerom, v prirode, v dobrej...   \n",
       "5                               v dobrej restauracii   \n",
       "6                               v dobrej restauracii   \n",
       "7                               v dobrej restauracii   \n",
       "8             v posteli, s niekym koho mam velmi rad   \n",
       "9             v posteli, s niekym koho mam velmi rad   \n",
       "\n",
       "                                                pets  \\\n",
       "0                                              macka   \n",
       "1                         ja a nas prefikany alik :)   \n",
       "2                                    uz nemam ziadne   \n",
       "3                                    uz nemam ziadne   \n",
       "4                                                pes   \n",
       "5  nemam ziadne, nemam rad zvierata zo vseobecnos...   \n",
       "6  nemam ziadne, nemam rad zvierata zo vseobecnos...   \n",
       "7                                         pes, tinku   \n",
       "8                           mam toho ako doroka dni    \n",
       "9                                        mam psika:)   \n",
       "\n",
       "                                      body_type  \n",
       "0                                     priemerna  \n",
       "1  nemozem pribrat nedasa smola som moc aktivny  \n",
       "2                                     priemerna  \n",
       "3                                     priemerna  \n",
       "4                                     priemerna  \n",
       "5                                  vysportovana  \n",
       "6                                  vysportovana  \n",
       "7                              diky vyhovuje mi  \n",
       "8                              diky vyhovuje mi  \n",
       "9                              diky vyhovuje mi  "
      ]
     },
     "execution_count": 205,
     "metadata": {},
     "output_type": "execute_result"
    }
   ],
   "source": [
    "small_df.head(10)"
   ]
  },
  {
   "cell_type": "code",
   "execution_count": 207,
   "metadata": {},
   "outputs": [],
   "source": [
    "small_df['public'] = small_df.public.astype('float64')\n",
    "small_df.completion_percentage = small_df.completion_percentage.astype('float64')\n",
    "small_df.gender = small_df.gender.astype('float64')\n",
    "small_df.AGE = small_df.AGE.astype(\"float64\")"
   ]
  },
  {
   "cell_type": "code",
   "execution_count": 209,
   "metadata": {},
   "outputs": [],
   "source": [
    "num_data = small_df.select_dtypes(include='float64')\n",
    "cat_data = small_df.select_dtypes(include='category')"
   ]
  },
  {
   "cell_type": "code",
   "execution_count": 210,
   "metadata": {},
   "outputs": [
    {
     "data": {
      "text/html": [
       "<div>\n",
       "<style scoped>\n",
       "    .dataframe tbody tr th:only-of-type {\n",
       "        vertical-align: middle;\n",
       "    }\n",
       "\n",
       "    .dataframe tbody tr th {\n",
       "        vertical-align: top;\n",
       "    }\n",
       "\n",
       "    .dataframe thead th {\n",
       "        text-align: right;\n",
       "    }\n",
       "</style>\n",
       "<table border=\"1\" class=\"dataframe\">\n",
       "  <thead>\n",
       "    <tr style=\"text-align: right;\">\n",
       "      <th></th>\n",
       "      <th>public</th>\n",
       "      <th>completion_percentage</th>\n",
       "      <th>gender</th>\n",
       "      <th>AGE</th>\n",
       "    </tr>\n",
       "  </thead>\n",
       "  <tbody>\n",
       "    <tr>\n",
       "      <td>0</td>\n",
       "      <td>1.0</td>\n",
       "      <td>62.0</td>\n",
       "      <td>0.0</td>\n",
       "      <td>0.0</td>\n",
       "    </tr>\n",
       "    <tr>\n",
       "      <td>1</td>\n",
       "      <td>1.0</td>\n",
       "      <td>64.0</td>\n",
       "      <td>1.0</td>\n",
       "      <td>23.0</td>\n",
       "    </tr>\n",
       "    <tr>\n",
       "      <td>2</td>\n",
       "      <td>0.0</td>\n",
       "      <td>38.0</td>\n",
       "      <td>1.0</td>\n",
       "      <td>29.0</td>\n",
       "    </tr>\n",
       "    <tr>\n",
       "      <td>3</td>\n",
       "      <td>1.0</td>\n",
       "      <td>12.0</td>\n",
       "      <td>0.0</td>\n",
       "      <td>26.0</td>\n",
       "    </tr>\n",
       "    <tr>\n",
       "      <td>4</td>\n",
       "      <td>1.0</td>\n",
       "      <td>47.0</td>\n",
       "      <td>0.0</td>\n",
       "      <td>27.0</td>\n",
       "    </tr>\n",
       "    <tr>\n",
       "      <td>...</td>\n",
       "      <td>...</td>\n",
       "      <td>...</td>\n",
       "      <td>...</td>\n",
       "      <td>...</td>\n",
       "    </tr>\n",
       "    <tr>\n",
       "      <td>4995</td>\n",
       "      <td>0.0</td>\n",
       "      <td>43.0</td>\n",
       "      <td>1.0</td>\n",
       "      <td>22.0</td>\n",
       "    </tr>\n",
       "    <tr>\n",
       "      <td>4996</td>\n",
       "      <td>0.0</td>\n",
       "      <td>12.0</td>\n",
       "      <td>1.0</td>\n",
       "      <td>0.0</td>\n",
       "    </tr>\n",
       "    <tr>\n",
       "      <td>4997</td>\n",
       "      <td>1.0</td>\n",
       "      <td>55.0</td>\n",
       "      <td>0.0</td>\n",
       "      <td>22.0</td>\n",
       "    </tr>\n",
       "    <tr>\n",
       "      <td>4998</td>\n",
       "      <td>1.0</td>\n",
       "      <td>47.0</td>\n",
       "      <td>1.0</td>\n",
       "      <td>24.0</td>\n",
       "    </tr>\n",
       "    <tr>\n",
       "      <td>4999</td>\n",
       "      <td>1.0</td>\n",
       "      <td>71.0</td>\n",
       "      <td>0.0</td>\n",
       "      <td>0.0</td>\n",
       "    </tr>\n",
       "  </tbody>\n",
       "</table>\n",
       "<p>5000 rows × 4 columns</p>\n",
       "</div>"
      ],
      "text/plain": [
       "      public  completion_percentage  gender   AGE\n",
       "0        1.0                   62.0     0.0   0.0\n",
       "1        1.0                   64.0     1.0  23.0\n",
       "2        0.0                   38.0     1.0  29.0\n",
       "3        1.0                   12.0     0.0  26.0\n",
       "4        1.0                   47.0     0.0  27.0\n",
       "...      ...                    ...     ...   ...\n",
       "4995     0.0                   43.0     1.0  22.0\n",
       "4996     0.0                   12.0     1.0   0.0\n",
       "4997     1.0                   55.0     0.0  22.0\n",
       "4998     1.0                   47.0     1.0  24.0\n",
       "4999     1.0                   71.0     0.0   0.0\n",
       "\n",
       "[5000 rows x 4 columns]"
      ]
     },
     "execution_count": 210,
     "metadata": {},
     "output_type": "execute_result"
    }
   ],
   "source": [
    "num_data"
   ]
  },
  {
   "cell_type": "code",
   "execution_count": 213,
   "metadata": {},
   "outputs": [],
   "source": [
    "# normalization of num data\n",
    "from sklearn.preprocessing import StandardScaler"
   ]
  },
  {
   "cell_type": "code",
   "execution_count": 214,
   "metadata": {},
   "outputs": [],
   "source": [
    "sc = StandardScaler()\n",
    "num_data_prepared = pd.DataFrame(sc.fit_transform(num_data),columns=num_data.columns)"
   ]
  },
  {
   "cell_type": "code",
   "execution_count": 215,
   "metadata": {},
   "outputs": [
    {
     "data": {
      "text/html": [
       "<div>\n",
       "<style scoped>\n",
       "    .dataframe tbody tr th:only-of-type {\n",
       "        vertical-align: middle;\n",
       "    }\n",
       "\n",
       "    .dataframe tbody tr th {\n",
       "        vertical-align: top;\n",
       "    }\n",
       "\n",
       "    .dataframe thead th {\n",
       "        text-align: right;\n",
       "    }\n",
       "</style>\n",
       "<table border=\"1\" class=\"dataframe\">\n",
       "  <thead>\n",
       "    <tr style=\"text-align: right;\">\n",
       "      <th></th>\n",
       "      <th>public</th>\n",
       "      <th>completion_percentage</th>\n",
       "      <th>gender</th>\n",
       "      <th>AGE</th>\n",
       "    </tr>\n",
       "  </thead>\n",
       "  <tbody>\n",
       "    <tr>\n",
       "      <td>0</td>\n",
       "      <td>0.901979</td>\n",
       "      <td>0.581657</td>\n",
       "      <td>-0.901250</td>\n",
       "      <td>-1.527438</td>\n",
       "    </tr>\n",
       "    <tr>\n",
       "      <td>1</td>\n",
       "      <td>0.901979</td>\n",
       "      <td>0.668227</td>\n",
       "      <td>1.109571</td>\n",
       "      <td>0.688055</td>\n",
       "    </tr>\n",
       "    <tr>\n",
       "      <td>2</td>\n",
       "      <td>-1.108674</td>\n",
       "      <td>-0.457186</td>\n",
       "      <td>1.109571</td>\n",
       "      <td>1.266010</td>\n",
       "    </tr>\n",
       "    <tr>\n",
       "      <td>3</td>\n",
       "      <td>0.901979</td>\n",
       "      <td>-1.582599</td>\n",
       "      <td>-0.901250</td>\n",
       "      <td>0.977033</td>\n",
       "    </tr>\n",
       "    <tr>\n",
       "      <td>4</td>\n",
       "      <td>0.901979</td>\n",
       "      <td>-0.067620</td>\n",
       "      <td>-0.901250</td>\n",
       "      <td>1.073359</td>\n",
       "    </tr>\n",
       "    <tr>\n",
       "      <td>...</td>\n",
       "      <td>...</td>\n",
       "      <td>...</td>\n",
       "      <td>...</td>\n",
       "      <td>...</td>\n",
       "    </tr>\n",
       "    <tr>\n",
       "      <td>4995</td>\n",
       "      <td>-1.108674</td>\n",
       "      <td>-0.240760</td>\n",
       "      <td>1.109571</td>\n",
       "      <td>0.591729</td>\n",
       "    </tr>\n",
       "    <tr>\n",
       "      <td>4996</td>\n",
       "      <td>-1.108674</td>\n",
       "      <td>-1.582599</td>\n",
       "      <td>1.109571</td>\n",
       "      <td>-1.527438</td>\n",
       "    </tr>\n",
       "    <tr>\n",
       "      <td>4997</td>\n",
       "      <td>0.901979</td>\n",
       "      <td>0.278661</td>\n",
       "      <td>-0.901250</td>\n",
       "      <td>0.591729</td>\n",
       "    </tr>\n",
       "    <tr>\n",
       "      <td>4998</td>\n",
       "      <td>0.901979</td>\n",
       "      <td>-0.067620</td>\n",
       "      <td>1.109571</td>\n",
       "      <td>0.784381</td>\n",
       "    </tr>\n",
       "    <tr>\n",
       "      <td>4999</td>\n",
       "      <td>0.901979</td>\n",
       "      <td>0.971223</td>\n",
       "      <td>-0.901250</td>\n",
       "      <td>-1.527438</td>\n",
       "    </tr>\n",
       "  </tbody>\n",
       "</table>\n",
       "<p>5000 rows × 4 columns</p>\n",
       "</div>"
      ],
      "text/plain": [
       "        public  completion_percentage    gender       AGE\n",
       "0     0.901979               0.581657 -0.901250 -1.527438\n",
       "1     0.901979               0.668227  1.109571  0.688055\n",
       "2    -1.108674              -0.457186  1.109571  1.266010\n",
       "3     0.901979              -1.582599 -0.901250  0.977033\n",
       "4     0.901979              -0.067620 -0.901250  1.073359\n",
       "...        ...                    ...       ...       ...\n",
       "4995 -1.108674              -0.240760  1.109571  0.591729\n",
       "4996 -1.108674              -1.582599  1.109571 -1.527438\n",
       "4997  0.901979               0.278661 -0.901250  0.591729\n",
       "4998  0.901979              -0.067620  1.109571  0.784381\n",
       "4999  0.901979               0.971223 -0.901250 -1.527438\n",
       "\n",
       "[5000 rows x 4 columns]"
      ]
     },
     "execution_count": 215,
     "metadata": {},
     "output_type": "execute_result"
    }
   ],
   "source": [
    "num_data_prepared"
   ]
  },
  {
   "cell_type": "code",
   "execution_count": 218,
   "metadata": {},
   "outputs": [],
   "source": [
    "# for encoding the text to integer\n",
    "from sklearn.feature_extraction.text import CountVectorizer "
   ]
  },
  {
   "cell_type": "code",
   "execution_count": 219,
   "metadata": {},
   "outputs": [],
   "source": [
    "# Example\n",
    "cv = CountVectorizer() "
   ]
  },
  {
   "cell_type": "code",
   "execution_count": 257,
   "metadata": {},
   "outputs": [],
   "source": [
    "prepared_cat = {}\n",
    "for col in cat_data.columns:\n",
    "    prepared_cat[col]  = cv.fit_transform(cat_data[col]).toarray() # bag of words"
   ]
  },
  {
   "cell_type": "code",
   "execution_count": 259,
   "metadata": {},
   "outputs": [
    {
     "data": {
      "text/plain": [
       "array([[0, 0, 0, ..., 0, 0, 0],\n",
       "       [0, 0, 0, ..., 0, 0, 0],\n",
       "       [0, 0, 0, ..., 0, 0, 0],\n",
       "       ...,\n",
       "       [0, 0, 0, ..., 0, 0, 0],\n",
       "       [0, 0, 0, ..., 0, 0, 0],\n",
       "       [0, 0, 0, ..., 0, 0, 0]], dtype=int64)"
      ]
     },
     "execution_count": 259,
     "metadata": {},
     "output_type": "execute_result"
    }
   ],
   "source": [
    "prepared_cat['region']"
   ]
  },
  {
   "cell_type": "code",
   "execution_count": 264,
   "metadata": {},
   "outputs": [
    {
     "data": {
      "text/plain": [
       "Index(['region', 'last_login', 'registration', 'body', 'I_am_working_in_field',\n",
       "       'spoken_languages', 'hobbies', 'I_most_enjoy_good_food', 'pets',\n",
       "       'body_type'],\n",
       "      dtype='object')"
      ]
     },
     "execution_count": 264,
     "metadata": {},
     "output_type": "execute_result"
    }
   ],
   "source": [
    "cat_data.columns"
   ]
  },
  {
   "cell_type": "code",
   "execution_count": 262,
   "metadata": {},
   "outputs": [],
   "source": [
    "cat_prepared_df = pd.DataFrame(prepared_cat['region'])"
   ]
  },
  {
   "cell_type": "code",
   "execution_count": 268,
   "metadata": {},
   "outputs": [],
   "source": [
    "cat_prepared_df = pd.concat([pd.DataFrame(prepared_cat['last_login']),\\\n",
    "                             pd.DataFrame(prepared_cat['registration']),\\\n",
    "                             pd.DataFrame(prepared_cat['body']),\\\n",
    "                             pd.DataFrame(prepared_cat['I_am_working_in_field']),\\\n",
    "                             pd.DataFrame(prepared_cat['spoken_languages']),\\\n",
    "                             pd.DataFrame(prepared_cat['hobbies']),\\\n",
    "                             pd.DataFrame(prepared_cat['I_most_enjoy_good_food']),\\\n",
    "                             pd.DataFrame(prepared_cat['pets']),\\\n",
    "                             pd.DataFrame(prepared_cat['body_type'])],axis=1)"
   ]
  },
  {
   "cell_type": "code",
   "execution_count": 271,
   "metadata": {},
   "outputs": [],
   "source": [
    "full_prepared_df = pd.concat([num_data_prepared,cat_prepared_df],axis=1)"
   ]
  },
  {
   "cell_type": "code",
   "execution_count": 307,
   "metadata": {},
   "outputs": [
    {
     "data": {
      "text/html": [
       "<div>\n",
       "<style scoped>\n",
       "    .dataframe tbody tr th:only-of-type {\n",
       "        vertical-align: middle;\n",
       "    }\n",
       "\n",
       "    .dataframe tbody tr th {\n",
       "        vertical-align: top;\n",
       "    }\n",
       "\n",
       "    .dataframe thead th {\n",
       "        text-align: right;\n",
       "    }\n",
       "</style>\n",
       "<table border=\"1\" class=\"dataframe\">\n",
       "  <thead>\n",
       "    <tr style=\"text-align: right;\">\n",
       "      <th></th>\n",
       "      <th>public</th>\n",
       "      <th>completion_percentage</th>\n",
       "      <th>gender</th>\n",
       "      <th>AGE</th>\n",
       "      <th>0</th>\n",
       "      <th>1</th>\n",
       "      <th>2</th>\n",
       "      <th>3</th>\n",
       "      <th>4</th>\n",
       "      <th>5</th>\n",
       "      <th>...</th>\n",
       "      <th>1451</th>\n",
       "      <th>1452</th>\n",
       "      <th>1453</th>\n",
       "      <th>1454</th>\n",
       "      <th>1455</th>\n",
       "      <th>1456</th>\n",
       "      <th>1457</th>\n",
       "      <th>1458</th>\n",
       "      <th>1459</th>\n",
       "      <th>1460</th>\n",
       "    </tr>\n",
       "  </thead>\n",
       "  <tbody>\n",
       "    <tr>\n",
       "      <td>0</td>\n",
       "      <td>0.901979</td>\n",
       "      <td>0.581657</td>\n",
       "      <td>-0.901250</td>\n",
       "      <td>-1.527438</td>\n",
       "      <td>1</td>\n",
       "      <td>0</td>\n",
       "      <td>0</td>\n",
       "      <td>0</td>\n",
       "      <td>0</td>\n",
       "      <td>1</td>\n",
       "      <td>...</td>\n",
       "      <td>0</td>\n",
       "      <td>0</td>\n",
       "      <td>0</td>\n",
       "      <td>0</td>\n",
       "      <td>0</td>\n",
       "      <td>0</td>\n",
       "      <td>0</td>\n",
       "      <td>0</td>\n",
       "      <td>0</td>\n",
       "      <td>0</td>\n",
       "    </tr>\n",
       "    <tr>\n",
       "      <td>1</td>\n",
       "      <td>0.901979</td>\n",
       "      <td>0.668227</td>\n",
       "      <td>1.109571</td>\n",
       "      <td>0.688055</td>\n",
       "      <td>0</td>\n",
       "      <td>0</td>\n",
       "      <td>0</td>\n",
       "      <td>0</td>\n",
       "      <td>0</td>\n",
       "      <td>1</td>\n",
       "      <td>...</td>\n",
       "      <td>0</td>\n",
       "      <td>0</td>\n",
       "      <td>0</td>\n",
       "      <td>0</td>\n",
       "      <td>0</td>\n",
       "      <td>0</td>\n",
       "      <td>0</td>\n",
       "      <td>0</td>\n",
       "      <td>0</td>\n",
       "      <td>0</td>\n",
       "    </tr>\n",
       "    <tr>\n",
       "      <td>2</td>\n",
       "      <td>-1.108674</td>\n",
       "      <td>-0.457186</td>\n",
       "      <td>1.109571</td>\n",
       "      <td>1.266010</td>\n",
       "      <td>1</td>\n",
       "      <td>0</td>\n",
       "      <td>0</td>\n",
       "      <td>0</td>\n",
       "      <td>0</td>\n",
       "      <td>2</td>\n",
       "      <td>...</td>\n",
       "      <td>0</td>\n",
       "      <td>0</td>\n",
       "      <td>0</td>\n",
       "      <td>0</td>\n",
       "      <td>0</td>\n",
       "      <td>0</td>\n",
       "      <td>0</td>\n",
       "      <td>0</td>\n",
       "      <td>0</td>\n",
       "      <td>0</td>\n",
       "    </tr>\n",
       "    <tr>\n",
       "      <td>3</td>\n",
       "      <td>0.901979</td>\n",
       "      <td>-1.582599</td>\n",
       "      <td>-0.901250</td>\n",
       "      <td>0.977033</td>\n",
       "      <td>1</td>\n",
       "      <td>0</td>\n",
       "      <td>0</td>\n",
       "      <td>0</td>\n",
       "      <td>0</td>\n",
       "      <td>0</td>\n",
       "      <td>...</td>\n",
       "      <td>0</td>\n",
       "      <td>0</td>\n",
       "      <td>0</td>\n",
       "      <td>0</td>\n",
       "      <td>0</td>\n",
       "      <td>0</td>\n",
       "      <td>0</td>\n",
       "      <td>0</td>\n",
       "      <td>0</td>\n",
       "      <td>0</td>\n",
       "    </tr>\n",
       "    <tr>\n",
       "      <td>4</td>\n",
       "      <td>0.901979</td>\n",
       "      <td>-0.067620</td>\n",
       "      <td>-0.901250</td>\n",
       "      <td>1.073359</td>\n",
       "      <td>1</td>\n",
       "      <td>0</td>\n",
       "      <td>0</td>\n",
       "      <td>0</td>\n",
       "      <td>0</td>\n",
       "      <td>1</td>\n",
       "      <td>...</td>\n",
       "      <td>0</td>\n",
       "      <td>0</td>\n",
       "      <td>0</td>\n",
       "      <td>0</td>\n",
       "      <td>0</td>\n",
       "      <td>0</td>\n",
       "      <td>0</td>\n",
       "      <td>0</td>\n",
       "      <td>0</td>\n",
       "      <td>0</td>\n",
       "    </tr>\n",
       "    <tr>\n",
       "      <td>...</td>\n",
       "      <td>...</td>\n",
       "      <td>...</td>\n",
       "      <td>...</td>\n",
       "      <td>...</td>\n",
       "      <td>...</td>\n",
       "      <td>...</td>\n",
       "      <td>...</td>\n",
       "      <td>...</td>\n",
       "      <td>...</td>\n",
       "      <td>...</td>\n",
       "      <td>...</td>\n",
       "      <td>...</td>\n",
       "      <td>...</td>\n",
       "      <td>...</td>\n",
       "      <td>...</td>\n",
       "      <td>...</td>\n",
       "      <td>...</td>\n",
       "      <td>...</td>\n",
       "      <td>...</td>\n",
       "      <td>...</td>\n",
       "      <td>...</td>\n",
       "    </tr>\n",
       "    <tr>\n",
       "      <td>4995</td>\n",
       "      <td>-1.108674</td>\n",
       "      <td>-0.240760</td>\n",
       "      <td>1.109571</td>\n",
       "      <td>0.591729</td>\n",
       "      <td>1</td>\n",
       "      <td>0</td>\n",
       "      <td>0</td>\n",
       "      <td>1</td>\n",
       "      <td>0</td>\n",
       "      <td>1</td>\n",
       "      <td>...</td>\n",
       "      <td>0</td>\n",
       "      <td>0</td>\n",
       "      <td>0</td>\n",
       "      <td>0</td>\n",
       "      <td>0</td>\n",
       "      <td>0</td>\n",
       "      <td>0</td>\n",
       "      <td>0</td>\n",
       "      <td>0</td>\n",
       "      <td>0</td>\n",
       "    </tr>\n",
       "    <tr>\n",
       "      <td>4996</td>\n",
       "      <td>-1.108674</td>\n",
       "      <td>-1.582599</td>\n",
       "      <td>1.109571</td>\n",
       "      <td>-1.527438</td>\n",
       "      <td>1</td>\n",
       "      <td>1</td>\n",
       "      <td>0</td>\n",
       "      <td>0</td>\n",
       "      <td>0</td>\n",
       "      <td>0</td>\n",
       "      <td>...</td>\n",
       "      <td>0</td>\n",
       "      <td>0</td>\n",
       "      <td>0</td>\n",
       "      <td>0</td>\n",
       "      <td>0</td>\n",
       "      <td>0</td>\n",
       "      <td>0</td>\n",
       "      <td>0</td>\n",
       "      <td>0</td>\n",
       "      <td>0</td>\n",
       "    </tr>\n",
       "    <tr>\n",
       "      <td>4997</td>\n",
       "      <td>0.901979</td>\n",
       "      <td>0.278661</td>\n",
       "      <td>-0.901250</td>\n",
       "      <td>0.591729</td>\n",
       "      <td>1</td>\n",
       "      <td>0</td>\n",
       "      <td>0</td>\n",
       "      <td>0</td>\n",
       "      <td>0</td>\n",
       "      <td>1</td>\n",
       "      <td>...</td>\n",
       "      <td>0</td>\n",
       "      <td>0</td>\n",
       "      <td>0</td>\n",
       "      <td>0</td>\n",
       "      <td>0</td>\n",
       "      <td>0</td>\n",
       "      <td>0</td>\n",
       "      <td>0</td>\n",
       "      <td>0</td>\n",
       "      <td>0</td>\n",
       "    </tr>\n",
       "    <tr>\n",
       "      <td>4998</td>\n",
       "      <td>0.901979</td>\n",
       "      <td>-0.067620</td>\n",
       "      <td>1.109571</td>\n",
       "      <td>0.784381</td>\n",
       "      <td>2</td>\n",
       "      <td>0</td>\n",
       "      <td>0</td>\n",
       "      <td>0</td>\n",
       "      <td>0</td>\n",
       "      <td>1</td>\n",
       "      <td>...</td>\n",
       "      <td>0</td>\n",
       "      <td>0</td>\n",
       "      <td>0</td>\n",
       "      <td>0</td>\n",
       "      <td>0</td>\n",
       "      <td>0</td>\n",
       "      <td>0</td>\n",
       "      <td>0</td>\n",
       "      <td>0</td>\n",
       "      <td>0</td>\n",
       "    </tr>\n",
       "    <tr>\n",
       "      <td>4999</td>\n",
       "      <td>0.901979</td>\n",
       "      <td>0.971223</td>\n",
       "      <td>-0.901250</td>\n",
       "      <td>-1.527438</td>\n",
       "      <td>1</td>\n",
       "      <td>0</td>\n",
       "      <td>0</td>\n",
       "      <td>0</td>\n",
       "      <td>0</td>\n",
       "      <td>1</td>\n",
       "      <td>...</td>\n",
       "      <td>0</td>\n",
       "      <td>0</td>\n",
       "      <td>0</td>\n",
       "      <td>0</td>\n",
       "      <td>0</td>\n",
       "      <td>0</td>\n",
       "      <td>0</td>\n",
       "      <td>0</td>\n",
       "      <td>0</td>\n",
       "      <td>0</td>\n",
       "    </tr>\n",
       "  </tbody>\n",
       "</table>\n",
       "<p>5000 rows × 14604 columns</p>\n",
       "</div>"
      ],
      "text/plain": [
       "        public  completion_percentage    gender       AGE  0  1  2  3  4  5  \\\n",
       "0     0.901979               0.581657 -0.901250 -1.527438  1  0  0  0  0  1   \n",
       "1     0.901979               0.668227  1.109571  0.688055  0  0  0  0  0  1   \n",
       "2    -1.108674              -0.457186  1.109571  1.266010  1  0  0  0  0  2   \n",
       "3     0.901979              -1.582599 -0.901250  0.977033  1  0  0  0  0  0   \n",
       "4     0.901979              -0.067620 -0.901250  1.073359  1  0  0  0  0  1   \n",
       "...        ...                    ...       ...       ... .. .. .. .. .. ..   \n",
       "4995 -1.108674              -0.240760  1.109571  0.591729  1  0  0  1  0  1   \n",
       "4996 -1.108674              -1.582599  1.109571 -1.527438  1  1  0  0  0  0   \n",
       "4997  0.901979               0.278661 -0.901250  0.591729  1  0  0  0  0  1   \n",
       "4998  0.901979              -0.067620  1.109571  0.784381  2  0  0  0  0  1   \n",
       "4999  0.901979               0.971223 -0.901250 -1.527438  1  0  0  0  0  1   \n",
       "\n",
       "      ...  1451  1452  1453  1454  1455  1456  1457  1458  1459  1460  \n",
       "0     ...     0     0     0     0     0     0     0     0     0     0  \n",
       "1     ...     0     0     0     0     0     0     0     0     0     0  \n",
       "2     ...     0     0     0     0     0     0     0     0     0     0  \n",
       "3     ...     0     0     0     0     0     0     0     0     0     0  \n",
       "4     ...     0     0     0     0     0     0     0     0     0     0  \n",
       "...   ...   ...   ...   ...   ...   ...   ...   ...   ...   ...   ...  \n",
       "4995  ...     0     0     0     0     0     0     0     0     0     0  \n",
       "4996  ...     0     0     0     0     0     0     0     0     0     0  \n",
       "4997  ...     0     0     0     0     0     0     0     0     0     0  \n",
       "4998  ...     0     0     0     0     0     0     0     0     0     0  \n",
       "4999  ...     0     0     0     0     0     0     0     0     0     0  \n",
       "\n",
       "[5000 rows x 14604 columns]"
      ]
     },
     "execution_count": 307,
     "metadata": {},
     "output_type": "execute_result"
    }
   ],
   "source": [
    "full_prepared_df"
   ]
  },
  {
   "cell_type": "code",
   "execution_count": 316,
   "metadata": {},
   "outputs": [],
   "source": [
    "from sklearn.decomposition import PCA"
   ]
  },
  {
   "cell_type": "code",
   "execution_count": 317,
   "metadata": {},
   "outputs": [],
   "source": [
    "pca = PCA()"
   ]
  },
  {
   "cell_type": "code",
   "execution_count": 318,
   "metadata": {},
   "outputs": [],
   "source": [
    "data_pca = pca.fit_transform(full_prepared_df)"
   ]
  },
  {
   "cell_type": "code",
   "execution_count": 323,
   "metadata": {},
   "outputs": [
    {
     "data": {
      "text/plain": [
       "array([0.056007  , 0.08984088, 0.11579041, ..., 1.        , 1.        ,\n",
       "       1.        ])"
      ]
     },
     "execution_count": 323,
     "metadata": {},
     "output_type": "execute_result"
    }
   ],
   "source": [
    "cumsum=np.cumsum(pca.explained_variance_ratio_)\n",
    "cumsum"
   ]
  },
  {
   "cell_type": "code",
   "execution_count": 321,
   "metadata": {},
   "outputs": [
    {
     "data": {
      "text/plain": [
       "(5000, 5000)"
      ]
     },
     "execution_count": 321,
     "metadata": {},
     "output_type": "execute_result"
    }
   ],
   "source": [
    "data_pca.shape"
   ]
  },
  {
   "cell_type": "code",
   "execution_count": 273,
   "metadata": {},
   "outputs": [],
   "source": [
    "# from sklearn.model_selection import train_test_split"
   ]
  },
  {
   "cell_type": "code",
   "execution_count": 302,
   "metadata": {},
   "outputs": [],
   "source": [
    "from sklearn.cluster import KMeans"
   ]
  },
  {
   "cell_type": "code",
   "execution_count": 325,
   "metadata": {},
   "outputs": [],
   "source": [
    "clusters = KMeans(n_clusters= 3)"
   ]
  },
  {
   "cell_type": "code",
   "execution_count": 326,
   "metadata": {},
   "outputs": [],
   "source": [
    "kmeans=clusters.fit_predict(data_pca)"
   ]
  },
  {
   "cell_type": "code",
   "execution_count": 327,
   "metadata": {},
   "outputs": [
    {
     "data": {
      "text/plain": [
       "array([1, 2, 2, ..., 0, 1, 1])"
      ]
     },
     "execution_count": 327,
     "metadata": {},
     "output_type": "execute_result"
    }
   ],
   "source": [
    "clusters.labels_"
   ]
  },
  {
   "cell_type": "code",
   "execution_count": 328,
   "metadata": {},
   "outputs": [],
   "source": [
    "from collections import Counter as count\n",
    "import matplotlib.pyplot as plt"
   ]
  },
  {
   "cell_type": "code",
   "execution_count": 329,
   "metadata": {},
   "outputs": [],
   "source": [
    "total_kmeans = count(clusters.labels_)"
   ]
  },
  {
   "cell_type": "code",
   "execution_count": 330,
   "metadata": {},
   "outputs": [
    {
     "data": {
      "text/plain": [
       "Counter({1: 1442, 2: 1519, 0: 2039})"
      ]
     },
     "execution_count": 330,
     "metadata": {},
     "output_type": "execute_result"
    }
   ],
   "source": [
    "total_kmeans"
   ]
  },
  {
   "cell_type": "code",
   "execution_count": 332,
   "metadata": {},
   "outputs": [
    {
     "data": {
      "text/plain": [
       "<matplotlib.collections.PathCollection at 0x2186733fd88>"
      ]
     },
     "execution_count": 332,
     "metadata": {},
     "output_type": "execute_result"
    },
    {
     "data": {
      "image/png": "[encoded data removed]",
      "text/plain": [
       "<Figure size 432x288 with 1 Axes>"
      ]
     },
     "metadata": {
      "needs_background": "light"
     },
     "output_type": "display_data"
    }
   ],
   "source": [
    "plt.scatter(data_pca[:,0],data_pca[:,1], c=clusters.labels_, cmap='rainbow')"
   ]
  },
  {
   "cell_type": "code",
   "execution_count": null,
   "metadata": {},
   "outputs": [],
   "source": []
  }
 ],
 "metadata": {
  "kernelspec": {
   "display_name": "Python 3",
   "language": "python",
   "name": "python3"
  },
  "language_info": {
   "codemirror_mode": {
    "name": "ipython",
    "version": 3
   },
   "file_extension": ".py",
   "mimetype": "text/x-python",
   "name": "python",
   "nbconvert_exporter": "python",
   "pygments_lexer": "ipython3",
   "version": "3.7.4"
  }
 },
 "nbformat": 4,
 "nbformat_minor": 2
}
